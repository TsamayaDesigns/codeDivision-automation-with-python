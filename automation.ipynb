{
  "nbformat": 4,
  "nbformat_minor": 0,
  "metadata": {
    "colab": {
      "provenance": [],
      "include_colab_link": true
    },
    "kernelspec": {
      "name": "python3",
      "display_name": "Python 3"
    },
    "language_info": {
      "name": "python"
    }
  },
  "cells": [
    {
      "cell_type": "markdown",
      "metadata": {
        "id": "view-in-github",
        "colab_type": "text"
      },
      "source": [
        "<a href=\"https://colab.research.google.com/github/TsamayaDesigns/codeDivision-automation-with-python/blob/main/automation.ipynb\" target=\"_parent\"><img src=\"https://colab.research.google.com/assets/colab-badge.svg\" alt=\"Open In Colab\"/></a>"
      ]
    },
    {
      "cell_type": "markdown",
      "source": [
        "**Mount Google Drive & Set Working Directory:**"
      ],
      "metadata": {
        "id": "fC_mjGsHkskR"
      }
    },
    {
      "cell_type": "code",
      "source": [
        "# 1️⃣ Mount Google Drive\n",
        "from google.colab import drive\n",
        "drive.mount('/content/drive/')\n",
        "\n",
        "# 2️⃣ Set Working Directory\n",
        "import os\n",
        "working_dir = '/content/drive/MyDrive/codeDivision'\n",
        "os.makedirs(working_dir, exist_ok=True)\n",
        "os.chdir(working_dir)\n",
        "\n",
        "# 3️⃣ Confirm Current Working Directory\n",
        "print(f\"Current working directory is: {os.getcwd()}\")"
      ],
      "metadata": {
        "colab": {
          "base_uri": "https://localhost:8080/"
        },
        "id": "5obh37fuga35",
        "outputId": "d04f9382-70c1-45d7-8181-538533c457ac"
      },
      "execution_count": 1,
      "outputs": [
        {
          "output_type": "stream",
          "name": "stdout",
          "text": [
            "Mounted at /content/drive/\n",
            "Current working directory is: /content/drive/MyDrive/codeDivision\n"
          ]
        }
      ]
    },
    {
      "cell_type": "markdown",
      "source": [
        "**Query the Data:**"
      ],
      "metadata": {
        "id": "_yUpcaBZJOMd"
      }
    },
    {
      "cell_type": "code",
      "execution_count": 2,
      "metadata": {
        "colab": {
          "base_uri": "https://localhost:8080/"
        },
        "id": "i0UHOHvbZWYN",
        "outputId": "e473a210-0b53-4a1f-f4f1-6a8782d01adf"
      },
      "outputs": [
        {
          "output_type": "stream",
          "name": "stdout",
          "text": [
            "[Row(ID=1, Start_time=datetime.datetime(2025, 7, 17, 17, 36, 32), Completion_time=datetime.datetime(2025, 7, 17, 17, 37, 33), User_Email='anonymous', Name=None, Last_modified_time=None, full_name='Piet Pompies', Need_365='Yes', Mac_or_PC='Option 1', Moodle_Email='piet@email.com', Attending='Yes', Alternative='NA', Council='Perth', Postcode='PH1', NeuroDivergent='No', Woman='No', Minority='No', Disabled='Yes', Refugee='No'), Row(ID=2, Start_time=datetime.datetime(2025, 7, 17, 17, 38, 34), Completion_time=datetime.datetime(2025, 7, 17, 17, 39, 15), User_Email='anonymous', Name=None, Last_modified_time=None, full_name='Jan Pampoen', Need_365='No', Mac_or_PC='Option 2', Moodle_Email='jan@email.com', Attending='No', Alternative='NA', Council='Dundee', Postcode='DD1', NeuroDivergent='Yes', Woman='Yes', Minority='Yes', Disabled='No', Refugee='Yes'), Row(ID=3, Start_time=datetime.datetime(2025, 7, 17, 18, 13, 48), Completion_time=datetime.datetime(2025, 7, 17, 18, 14, 51), User_Email='anonymous', Name=None, Last_modified_time=None, full_name='Koos Kakebeen', Need_365='Yes', Mac_or_PC='Mac', Moodle_Email='koos@email.com', Attending='No', Alternative='Help', Council='West Lothian', Postcode='EH1', NeuroDivergent='No', Woman='Yes', Minority='No', Disabled='Yes', Refugee='Yes'), Row(ID=4, Start_time=datetime.datetime(2025, 7, 17, 18, 15, 18), Completion_time=datetime.datetime(2025, 7, 17, 18, 16, 15), User_Email='anonymous', Name=None, Last_modified_time=None, full_name='Peter Pumpkineater', Need_365='No', Mac_or_PC='PC', Moodle_Email='peter@email.com', Attending='Yes', Alternative='21/09/2025', Council='Dundee', Postcode='DD2', NeuroDivergent='No', Woman='No', Minority='No', Disabled='Yes', Refugee='No'), Row(ID=5, Start_time=datetime.datetime(2025, 7, 19, 12, 4, 52), Completion_time=datetime.datetime(2025, 7, 19, 12, 6, 43), User_Email='anonymous', Name=None, Last_modified_time=None, full_name='Pieter de Coning', Need_365='Yes', Mac_or_PC='PC', Moodle_Email='pieteremail.com', Attending='No', Alternative='5/10/2025', Council='Perth & Kinross', Postcode='PH2', NeuroDivergent='No', Woman='Yes', Minority='No', Disabled='Yes', Refugee='Yes'), Row(ID=6, Start_time=datetime.datetime(2025, 7, 22, 18, 51, 7), Completion_time=datetime.datetime(2025, 7, 22, 18, 52, 25), User_Email='anonymous', Name=None, Last_modified_time=None, full_name='Gert Coetzee', Need_365='No', Mac_or_PC='PC', Moodle_Email='gert@google.com', Attending='Yes', Alternative='04/09/2025', Council='Edinburgh', Postcode='EH1', NeuroDivergent='No', Woman='No', Minority='No', Disabled='No', Refugee='No'), Row(ID=7, Start_time=datetime.datetime(2025, 7, 22, 19, 0, 50), Completion_time=datetime.datetime(2025, 7, 22, 19, 2, 2), User_Email='anonymous', Name=None, Last_modified_time=None, full_name='Jan Pierewiet', Need_365='Yes', Mac_or_PC='PC', Moodle_Email='JanP@outlook.com', Attending='Yes', Alternative='04/09/2025', Council='West Lothian', Postcode='EH5', NeuroDivergent='No', Woman='No', Minority='No', Disabled='Yes', Refugee='Yes')]\n"
          ]
        }
      ],
      "source": [
        "import re\n",
        "from excel_tools import read_sheet\n",
        "fields = ['ID', 'Start_time', 'Completion_time', 'User_Email', 'Name', 'Last_modified_time', 'full_name', 'Need_365', 'Mac_or_PC', 'Moodle_Email', 'Attending', 'Alternative', 'Council', 'Postcode', 'NeuroDivergent', 'Woman', 'Minority', 'Disabled', 'Refugee']\n",
        "subs = read_sheet('EnrolmentForm1.xlsx', fields = fields)\n",
        "print(subs)"
      ]
    },
    {
      "cell_type": "markdown",
      "source": [
        "**Check Attendance:**"
      ],
      "metadata": {
        "id": "b-zbDhIK8vUK"
      }
    },
    {
      "cell_type": "code",
      "source": [
        "# Check if person is attending\n",
        "attend_y = []\n",
        "attend_n = []\n",
        "\n",
        "for sub in subs:\n",
        "    if sub.Attending == 'Yes' or sub.Attending == 'yes' or sub.Attending == 'Y' or sub.Attending == 'y':\n",
        "        attend_y.append(sub)\n",
        "    else:\n",
        "        attend_n.append(sub)\n",
        "\n",
        "print(attend_y)\n",
        "print(attend_n)\n",
        "print(f'Attendance Yes: {len(attend_y)}, Attendance No: {len(attend_n)}')"
      ],
      "metadata": {
        "colab": {
          "base_uri": "https://localhost:8080/"
        },
        "id": "G-TRcpX_8tWv",
        "outputId": "08a53ded-47e7-4cd7-ad51-34c1ec861a42"
      },
      "execution_count": 3,
      "outputs": [
        {
          "output_type": "stream",
          "name": "stdout",
          "text": [
            "[Row(ID=1, Start_time=datetime.datetime(2025, 7, 17, 17, 36, 32), Completion_time=datetime.datetime(2025, 7, 17, 17, 37, 33), User_Email='anonymous', Name=None, Last_modified_time=None, full_name='Piet Pompies', Need_365='Yes', Mac_or_PC='Option 1', Moodle_Email='piet@email.com', Attending='Yes', Alternative='NA', Council='Perth', Postcode='PH1', NeuroDivergent='No', Woman='No', Minority='No', Disabled='Yes', Refugee='No'), Row(ID=4, Start_time=datetime.datetime(2025, 7, 17, 18, 15, 18), Completion_time=datetime.datetime(2025, 7, 17, 18, 16, 15), User_Email='anonymous', Name=None, Last_modified_time=None, full_name='Peter Pumpkineater', Need_365='No', Mac_or_PC='PC', Moodle_Email='peter@email.com', Attending='Yes', Alternative='21/09/2025', Council='Dundee', Postcode='DD2', NeuroDivergent='No', Woman='No', Minority='No', Disabled='Yes', Refugee='No'), Row(ID=6, Start_time=datetime.datetime(2025, 7, 22, 18, 51, 7), Completion_time=datetime.datetime(2025, 7, 22, 18, 52, 25), User_Email='anonymous', Name=None, Last_modified_time=None, full_name='Gert Coetzee', Need_365='No', Mac_or_PC='PC', Moodle_Email='gert@google.com', Attending='Yes', Alternative='04/09/2025', Council='Edinburgh', Postcode='EH1', NeuroDivergent='No', Woman='No', Minority='No', Disabled='No', Refugee='No'), Row(ID=7, Start_time=datetime.datetime(2025, 7, 22, 19, 0, 50), Completion_time=datetime.datetime(2025, 7, 22, 19, 2, 2), User_Email='anonymous', Name=None, Last_modified_time=None, full_name='Jan Pierewiet', Need_365='Yes', Mac_or_PC='PC', Moodle_Email='JanP@outlook.com', Attending='Yes', Alternative='04/09/2025', Council='West Lothian', Postcode='EH5', NeuroDivergent='No', Woman='No', Minority='No', Disabled='Yes', Refugee='Yes')]\n",
            "[Row(ID=2, Start_time=datetime.datetime(2025, 7, 17, 17, 38, 34), Completion_time=datetime.datetime(2025, 7, 17, 17, 39, 15), User_Email='anonymous', Name=None, Last_modified_time=None, full_name='Jan Pampoen', Need_365='No', Mac_or_PC='Option 2', Moodle_Email='jan@email.com', Attending='No', Alternative='NA', Council='Dundee', Postcode='DD1', NeuroDivergent='Yes', Woman='Yes', Minority='Yes', Disabled='No', Refugee='Yes'), Row(ID=3, Start_time=datetime.datetime(2025, 7, 17, 18, 13, 48), Completion_time=datetime.datetime(2025, 7, 17, 18, 14, 51), User_Email='anonymous', Name=None, Last_modified_time=None, full_name='Koos Kakebeen', Need_365='Yes', Mac_or_PC='Mac', Moodle_Email='koos@email.com', Attending='No', Alternative='Help', Council='West Lothian', Postcode='EH1', NeuroDivergent='No', Woman='Yes', Minority='No', Disabled='Yes', Refugee='Yes'), Row(ID=5, Start_time=datetime.datetime(2025, 7, 19, 12, 4, 52), Completion_time=datetime.datetime(2025, 7, 19, 12, 6, 43), User_Email='anonymous', Name=None, Last_modified_time=None, full_name='Pieter de Coning', Need_365='Yes', Mac_or_PC='PC', Moodle_Email='pieteremail.com', Attending='No', Alternative='5/10/2025', Council='Perth & Kinross', Postcode='PH2', NeuroDivergent='No', Woman='Yes', Minority='No', Disabled='Yes', Refugee='Yes')]\n",
            "Attendance Yes: 4, Attendance No: 3\n"
          ]
        }
      ]
    },
    {
      "cell_type": "markdown",
      "source": [
        "**Email address validation:**"
      ],
      "metadata": {
        "id": "GbPp2z7_U9q9"
      }
    },
    {
      "cell_type": "code",
      "source": [
        "# Check if email address is valid\n",
        "EMAIL_REGEX = re.compile(\n",
        "    r\"^[a-zA-Z0-9_.+-]+@[a-zA-Z0-9-]+\\.[a-zA-Z0-9-.]+$\"\n",
        ")\n",
        "\n",
        "def validate_emails(User_Email, Moodle_Email):\n",
        "  valid_emails = []\n",
        "  invalid_emails = []\n",
        "\n",
        "  if not EMAIL_REGEX.match(User_Email):\n",
        "    invalid_emails.append(f'User_Email: {User_Email}')\n",
        "  else:\n",
        "    valid_emails.append(f'User_Email: {User_Email}')\n",
        "\n",
        "  if not EMAIL_REGEX.match(Moodle_Email):\n",
        "    invalid_emails.append(f'Moodle_Email: {Moodle_Email}')\n",
        "  else:\n",
        "    valid_emails.append(f'Moodle_Email: {Moodle_Email}')\n",
        "\n",
        "  return invalid_emails, valid_emails\n",
        "\n",
        "# Collect all valid emails\n",
        "all_valid_emails = []\n",
        "\n",
        "# Print all valid emails\n",
        "for sub in subs:\n",
        "    invalid_emails, valid_emails = validate_emails(sub.User_Email, sub.Moodle_Email)\n",
        "\n",
        "    if valid_emails:\n",
        "      all_valid_emails.append(valid_emails)\n",
        "\n",
        "print(f'Valid emails: {all_valid_emails}')\n",
        "\n",
        "print()\n",
        "\n",
        "# Print email address report (for each person)\n",
        "print('Email address report:')\n",
        "for sub in subs:\n",
        "    invalid_emails, valid_emails = validate_emails(sub.User_Email, sub.Moodle_Email)\n",
        "\n",
        "    if invalid_emails:\n",
        "        print(sub.full_name, 'has invalid email(s):', invalid_emails)\n",
        "\n",
        "    if valid_emails:\n",
        "        print(sub.full_name, 'has valid email(s):', valid_emails)"
      ],
      "metadata": {
        "colab": {
          "base_uri": "https://localhost:8080/"
        },
        "id": "kysH6j0PU1Sy",
        "outputId": "a14375c7-2089-4b3a-f931-e07f4b96349d"
      },
      "execution_count": 4,
      "outputs": [
        {
          "output_type": "stream",
          "name": "stdout",
          "text": [
            "Valid emails: [['Moodle_Email: piet@email.com'], ['Moodle_Email: jan@email.com'], ['Moodle_Email: koos@email.com'], ['Moodle_Email: peter@email.com'], ['Moodle_Email: gert@google.com'], ['Moodle_Email: JanP@outlook.com']]\n",
            "\n",
            "Email address report:\n",
            "Piet Pompies has invalid email(s): ['User_Email: anonymous']\n",
            "Piet Pompies has valid email(s): ['Moodle_Email: piet@email.com']\n",
            "Jan Pampoen has invalid email(s): ['User_Email: anonymous']\n",
            "Jan Pampoen has valid email(s): ['Moodle_Email: jan@email.com']\n",
            "Koos Kakebeen has invalid email(s): ['User_Email: anonymous']\n",
            "Koos Kakebeen has valid email(s): ['Moodle_Email: koos@email.com']\n",
            "Peter Pumpkineater has invalid email(s): ['User_Email: anonymous']\n",
            "Peter Pumpkineater has valid email(s): ['Moodle_Email: peter@email.com']\n",
            "Pieter de Coning has invalid email(s): ['User_Email: anonymous', 'Moodle_Email: pieteremail.com']\n",
            "Gert Coetzee has invalid email(s): ['User_Email: anonymous']\n",
            "Gert Coetzee has valid email(s): ['Moodle_Email: gert@google.com']\n",
            "Jan Pierewiet has invalid email(s): ['User_Email: anonymous']\n",
            "Jan Pierewiet has valid email(s): ['Moodle_Email: JanP@outlook.com']\n"
          ]
        }
      ]
    },
    {
      "cell_type": "markdown",
      "source": [
        "**Office 365 Requirements:**"
      ],
      "metadata": {
        "id": "HTp3yduR8LZI"
      }
    },
    {
      "cell_type": "code",
      "source": [
        "# Establish Office 365 requirements\n",
        "o365_y = []\n",
        "o365_n = []\n",
        "\n",
        "for sub in subs:\n",
        "    if sub.Need_365 == 'Yes' or sub.Need_365 == 'yes' or sub.Need_365 == 'Y' or sub.Need_365 == 'y':\n",
        "        o365_y.append(sub)\n",
        "    else:\n",
        "        o365_n.append(sub)\n",
        "\n",
        "print(o365_y)\n",
        "print(o365_n)\n",
        "print(f'Require 365 - Yes: {len(o365_y)}, Require 365 - No: {len(o365_n)}')"
      ],
      "metadata": {
        "colab": {
          "base_uri": "https://localhost:8080/"
        },
        "id": "nrrh9S4x980P",
        "outputId": "6182e2ee-89eb-40e0-9e76-a33a87fb1ef7"
      },
      "execution_count": 5,
      "outputs": [
        {
          "output_type": "stream",
          "name": "stdout",
          "text": [
            "[Row(ID=1, Start_time=datetime.datetime(2025, 7, 17, 17, 36, 32), Completion_time=datetime.datetime(2025, 7, 17, 17, 37, 33), User_Email='anonymous', Name=None, Last_modified_time=None, full_name='Piet Pompies', Need_365='Yes', Mac_or_PC='Option 1', Moodle_Email='piet@email.com', Attending='Yes', Alternative='NA', Council='Perth', Postcode='PH1', NeuroDivergent='No', Woman='No', Minority='No', Disabled='Yes', Refugee='No'), Row(ID=3, Start_time=datetime.datetime(2025, 7, 17, 18, 13, 48), Completion_time=datetime.datetime(2025, 7, 17, 18, 14, 51), User_Email='anonymous', Name=None, Last_modified_time=None, full_name='Koos Kakebeen', Need_365='Yes', Mac_or_PC='Mac', Moodle_Email='koos@email.com', Attending='No', Alternative='Help', Council='West Lothian', Postcode='EH1', NeuroDivergent='No', Woman='Yes', Minority='No', Disabled='Yes', Refugee='Yes'), Row(ID=5, Start_time=datetime.datetime(2025, 7, 19, 12, 4, 52), Completion_time=datetime.datetime(2025, 7, 19, 12, 6, 43), User_Email='anonymous', Name=None, Last_modified_time=None, full_name='Pieter de Coning', Need_365='Yes', Mac_or_PC='PC', Moodle_Email='pieteremail.com', Attending='No', Alternative='5/10/2025', Council='Perth & Kinross', Postcode='PH2', NeuroDivergent='No', Woman='Yes', Minority='No', Disabled='Yes', Refugee='Yes'), Row(ID=7, Start_time=datetime.datetime(2025, 7, 22, 19, 0, 50), Completion_time=datetime.datetime(2025, 7, 22, 19, 2, 2), User_Email='anonymous', Name=None, Last_modified_time=None, full_name='Jan Pierewiet', Need_365='Yes', Mac_or_PC='PC', Moodle_Email='JanP@outlook.com', Attending='Yes', Alternative='04/09/2025', Council='West Lothian', Postcode='EH5', NeuroDivergent='No', Woman='No', Minority='No', Disabled='Yes', Refugee='Yes')]\n",
            "[Row(ID=2, Start_time=datetime.datetime(2025, 7, 17, 17, 38, 34), Completion_time=datetime.datetime(2025, 7, 17, 17, 39, 15), User_Email='anonymous', Name=None, Last_modified_time=None, full_name='Jan Pampoen', Need_365='No', Mac_or_PC='Option 2', Moodle_Email='jan@email.com', Attending='No', Alternative='NA', Council='Dundee', Postcode='DD1', NeuroDivergent='Yes', Woman='Yes', Minority='Yes', Disabled='No', Refugee='Yes'), Row(ID=4, Start_time=datetime.datetime(2025, 7, 17, 18, 15, 18), Completion_time=datetime.datetime(2025, 7, 17, 18, 16, 15), User_Email='anonymous', Name=None, Last_modified_time=None, full_name='Peter Pumpkineater', Need_365='No', Mac_or_PC='PC', Moodle_Email='peter@email.com', Attending='Yes', Alternative='21/09/2025', Council='Dundee', Postcode='DD2', NeuroDivergent='No', Woman='No', Minority='No', Disabled='Yes', Refugee='No'), Row(ID=6, Start_time=datetime.datetime(2025, 7, 22, 18, 51, 7), Completion_time=datetime.datetime(2025, 7, 22, 18, 52, 25), User_Email='anonymous', Name=None, Last_modified_time=None, full_name='Gert Coetzee', Need_365='No', Mac_or_PC='PC', Moodle_Email='gert@google.com', Attending='Yes', Alternative='04/09/2025', Council='Edinburgh', Postcode='EH1', NeuroDivergent='No', Woman='No', Minority='No', Disabled='No', Refugee='No')]\n",
            "Require 365 - Yes: 4, Require 365 - No: 3\n"
          ]
        }
      ]
    },
    {
      "cell_type": "markdown",
      "source": [
        "**Available Dates:**"
      ],
      "metadata": {
        "id": "KEe6SqCsfIvr"
      }
    },
    {
      "cell_type": "code",
      "source": [
        "# Check alternative dates for people unable attend\n",
        "from datetime import datetime\n",
        "print(attend_n)\n",
        "print()\n",
        "\n",
        "for sub in subs:\n",
        "  if sub.Attending == 'No' or sub.Attending == 'no' or sub.Attending == 'N' or sub.Attending == 'n':\n",
        "    try:\n",
        "      date_str = sub.Alternative\n",
        "      date = datetime.strptime(date_str, '%d/%m/%Y')\n",
        "      print()\n",
        "      print(f'{sub.full_name}, will be able to attend on: {date.strftime(\"%Y/%m/%d\")}.')\n",
        "    except ValueError:\n",
        "      print(f'{sub.full_name}, entered an invalid date: \"{sub.Alternative}\", and can be contacted on {sub.Moodle_Email} to confirm alternative date(s).')\n",
        "\n",
        "\n"
      ],
      "metadata": {
        "colab": {
          "base_uri": "https://localhost:8080/"
        },
        "id": "VQ3QWFohfgUL",
        "outputId": "423273d9-acbf-4024-dfeb-265b4060e655"
      },
      "execution_count": 24,
      "outputs": [
        {
          "output_type": "stream",
          "name": "stdout",
          "text": [
            "[Row(ID=2, Start_time=datetime.datetime(2025, 7, 17, 17, 38, 34), Completion_time=datetime.datetime(2025, 7, 17, 17, 39, 15), User_Email='anonymous', Name=None, Last_modified_time=None, full_name='Jan Pampoen', Need_365='No', Mac_or_PC='Option 2', Moodle_Email='jan@email.com', Attending='No', Alternative='NA', Council='Dundee', Postcode='DD1', NeuroDivergent='Yes', Woman='Yes', Minority='Yes', Disabled='No', Refugee='Yes'), Row(ID=3, Start_time=datetime.datetime(2025, 7, 17, 18, 13, 48), Completion_time=datetime.datetime(2025, 7, 17, 18, 14, 51), User_Email='anonymous', Name=None, Last_modified_time=None, full_name='Koos Kakebeen', Need_365='Yes', Mac_or_PC='Mac', Moodle_Email='koos@email.com', Attending='No', Alternative='Help', Council='West Lothian', Postcode='EH1', NeuroDivergent='No', Woman='Yes', Minority='No', Disabled='Yes', Refugee='Yes'), Row(ID=5, Start_time=datetime.datetime(2025, 7, 19, 12, 4, 52), Completion_time=datetime.datetime(2025, 7, 19, 12, 6, 43), User_Email='anonymous', Name=None, Last_modified_time=None, full_name='Pieter de Coning', Need_365='Yes', Mac_or_PC='PC', Moodle_Email='pieteremail.com', Attending='No', Alternative='5/10/2025', Council='Perth & Kinross', Postcode='PH2', NeuroDivergent='No', Woman='Yes', Minority='No', Disabled='Yes', Refugee='Yes')]\n",
            "\n",
            "Jan Pampoen, entered an invalid date: \"NA\", and can be contacted on jan@email.com to confirm alternative date(s).\n",
            "Koos Kakebeen, entered an invalid date: \"Help\", and can be contacted on koos@email.com to confirm alternative date(s).\n",
            "\n",
            "Pieter de Coning, will be able to attend on: 2025/10/05.\n"
          ]
        }
      ]
    }
  ]
}