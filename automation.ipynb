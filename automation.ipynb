{
  "nbformat": 4,
  "nbformat_minor": 0,
  "metadata": {
    "colab": {
      "provenance": [],
      "include_colab_link": true
    },
    "kernelspec": {
      "name": "python3",
      "display_name": "Python 3"
    },
    "language_info": {
      "name": "python"
    }
  },
  "cells": [
    {
      "cell_type": "markdown",
      "metadata": {
        "id": "view-in-github",
        "colab_type": "text"
      },
      "source": [
        "<a href=\"https://colab.research.google.com/github/TsamayaDesigns/codeDivision-automation-with-python/blob/main/automation.ipynb\" target=\"_parent\"><img src=\"https://colab.research.google.com/assets/colab-badge.svg\" alt=\"Open In Colab\"/></a>"
      ]
    },
    {
      "cell_type": "markdown",
      "source": [
        "**Mount Google Drive & Set Working Directory:**"
      ],
      "metadata": {
        "id": "fC_mjGsHkskR"
      }
    },
    {
      "cell_type": "code",
      "source": [
        "# 1️⃣ Mount Google Drive\n",
        "from google.colab import drive\n",
        "drive.mount('/content/drive/', force_remount=True)\n",
        "\n",
        "# 2️⃣ Set Working Directory\n",
        "import os\n",
        "working_dir = '/content/drive/MyDrive/codeDivision'\n",
        "os.makedirs(working_dir, exist_ok=True)\n",
        "os.chdir(working_dir)\n",
        "\n",
        "# 3️⃣ Confirm Current Working Directory\n",
        "print(f\"Current working directory is: {os.getcwd()}\")"
      ],
      "metadata": {
        "id": "5obh37fuga35",
        "colab": {
          "base_uri": "https://localhost:8080/"
        },
        "outputId": "6ae32cc8-3c13-46f9-b40e-2afb53364da6"
      },
      "execution_count": 45,
      "outputs": [
        {
          "output_type": "stream",
          "name": "stdout",
          "text": [
            "Mounted at /content/drive/\n",
            "Current working directory is: /content/drive/MyDrive/codeDivision\n"
          ]
        }
      ]
    },
    {
      "cell_type": "markdown",
      "source": [
        "**Query the Data:**"
      ],
      "metadata": {
        "id": "_yUpcaBZJOMd"
      }
    },
    {
      "cell_type": "code",
      "execution_count": 54,
      "metadata": {
        "id": "i0UHOHvbZWYN"
      },
      "outputs": [],
      "source": [
        "import re\n",
        "import pandas as pd\n",
        "from smtp import send\n",
        "from datetime import datetime\n",
        "from excel_tools import read_sheet\n",
        "from creds import email, pw\n",
        "\n",
        "fields = ['ID', 'Start_time', 'Completion_time', 'User_Email', 'Name', 'Last_modified_time', 'full_name', 'Need_365', 'Mac_or_PC', 'Moodle_Email', 'Attending', 'Alternative', 'Council', 'Postcode', 'NeuroDivergent', 'Woman', 'Minority', 'Disabled', 'Refugee']\n",
        "subs1 = read_sheet('EnrolmentForm1.xlsx', fields = fields)\n",
        "subs2 = read_sheet('EnrolmentForm2.xlsx', fields = fields)\n"
      ]
    },
    {
      "cell_type": "markdown",
      "source": [
        "**Check Attendance:**"
      ],
      "metadata": {
        "id": "b-zbDhIK8vUK"
      }
    },
    {
      "cell_type": "code",
      "source": [
        "# Check if person is attending\n",
        "def attendance(subs_list):\n",
        "  attend_y = []\n",
        "  attend_n = []\n",
        "\n",
        "  for sub in subs_list:\n",
        "      if str(sub.Attending).strip().lower() in ('yes', 'y'):\n",
        "          attend_y.append(sub)\n",
        "      else:\n",
        "          attend_n.append(sub)\n",
        "\n",
        "  print(f'Attendance Yes: {len(attend_y)} \\nAttendance No: {len(attend_n)}')\n",
        "  return attend_y, attend_n\n",
        "\n",
        "attend_y1, attend_n1 = attendance(subs1)\n",
        "attend_y2, attend_n2 = attendance(subs2)\n"
      ],
      "metadata": {
        "id": "G-TRcpX_8tWv",
        "colab": {
          "base_uri": "https://localhost:8080/"
        },
        "outputId": "039ecd1f-39cf-4625-b17a-a17ebefbc02a"
      },
      "execution_count": 55,
      "outputs": [
        {
          "output_type": "stream",
          "name": "stdout",
          "text": [
            "Attendance Yes: 8 \n",
            "Attendance No: 9\n",
            "Attendance Yes: 4 \n",
            "Attendance No: 5\n"
          ]
        }
      ]
    },
    {
      "cell_type": "markdown",
      "source": [
        "**Email address validation:**"
      ],
      "metadata": {
        "id": "GbPp2z7_U9q9"
      }
    },
    {
      "cell_type": "code",
      "source": [
        "# Check if email address is valid\n",
        "EMAIL_REGEX = re.compile(\n",
        "    r\"^[a-zA-Z0-9_.+-]+@[a-zA-Z0-9-]+\\.[a-zA-Z0-9-.]+$\"\n",
        ")\n",
        "\n",
        "def validate_emails(Moodle_Email):\n",
        "  valid_emails = []\n",
        "  invalid_emails = []\n",
        "\n",
        "  if not EMAIL_REGEX.match(Moodle_Email.strip()):\n",
        "    invalid_emails.append(f'Moodle_Email: {Moodle_Email.strip()}')\n",
        "  else:\n",
        "    valid_emails.append(f'Moodle_Email: {Moodle_Email.strip()}')\n",
        "\n",
        "  return invalid_emails, valid_emails\n",
        "\n",
        "\n",
        "# Print all valid emails\n",
        "def get_valid_emails(subs_list, form_name):\n",
        "  # Collect all valid emails\n",
        "  form_valid_emails = []\n",
        "\n",
        "  for sub in subs_list:\n",
        "      _, valid_emails = validate_emails(sub.Moodle_Email)\n",
        "\n",
        "      if valid_emails:\n",
        "        form_valid_emails.append((sub.full_name, sub.Moodle_Email))\n",
        "\n",
        "  print(f'Valid emails from {form_name}: {form_valid_emails}')\n",
        "  return form_valid_emails\n",
        "\n",
        "valid_emails_f1 = get_valid_emails(subs1, 'EnrolmentForm1.xlsx')\n",
        "valid_emails_f2 = get_valid_emails(subs2, 'EnrolmentForm2.xlsx')\n",
        "print()\n",
        "\n",
        "# Print email address report (for each person)\n",
        "def email_address_report(subs_list, form_name):\n",
        "  print(f'Email address report {form_name}:')\n",
        "  for sub in subs_list:\n",
        "      invalid_emails, valid_emails = validate_emails(sub.Moodle_Email)\n",
        "\n",
        "      if invalid_emails:\n",
        "          print(sub.full_name, 'has an invalid email:', invalid_emails)\n",
        "\n",
        "      if valid_emails:\n",
        "          print(sub.full_name, 'has a valid email:', valid_emails)\n",
        "\n",
        "email_address_report(subs1, '(EnrolmentForm1.xlsx)')\n",
        "print()\n",
        "email_address_report(subs2, '(EnrolmentForm2.xlsx)')"
      ],
      "metadata": {
        "id": "kysH6j0PU1Sy",
        "colab": {
          "base_uri": "https://localhost:8080/"
        },
        "outputId": "6021b42e-72e2-40d3-b8bb-a8f7083868c5"
      },
      "execution_count": 56,
      "outputs": [
        {
          "output_type": "stream",
          "name": "stdout",
          "text": [
            "Valid emails from EnrolmentForm1.xlsx: [('Piet Pompies', 'piet@email.com'), ('Jan Pampoen', 'jan@email.com'), ('Koos Kakebeen', 'koos@email.com'), ('Peter Pumpkineater', 'peter@email.com'), ('Gert Coetzee', 'gert@google.com'), ('Jan Pierewiet', 'JanP@outlook.com'), ('Blake Turner', 'thompsonpeter@example.org'), ('Amy Tran', 'gpacheco@example.net'), ('Anna Marsh', 'turnerstephanie@example.com'), ('William Edwards', 'patrick79@example.com'), ('Thomas Dixon', 'usims@example.net'), ('Jonathan Morton', 'deborahcuevas@example.net'), ('Russell Frederick', 'markbutler@example.org'), ('John Bowman', 'samanthabrown@example.net'), ('Alyssa White', 'millerdouglas@example.org'), ('Katrina Cook', 'leemary@example.com')]\n",
            "Valid emails from EnrolmentForm2.xlsx: [('Mike Hassett', 'mike@mail.com'), ('Ben Burger', 'ben@gmail.com'), ('Clive Greenwood', 'clive@trustytransport.co.za'), ('Coolhand Luke', 'coolhand@yahoo.com'), ('Steph Rossouw', 'steph@windhoek.co.na'), ('Gert Coetzee', 'gert@google.com'), ('Jan Pierewiet', 'JanP@outlook.com'), ('Blake Turner', 'thompsonpeter@example.org'), ('Amy Tran', 'gpacheco@example.net')]\n",
            "\n",
            "Email address report (EnrolmentForm1.xlsx):\n",
            "Piet Pompies has a valid email: ['Moodle_Email: piet@email.com']\n",
            "Jan Pampoen has a valid email: ['Moodle_Email: jan@email.com']\n",
            "Koos Kakebeen has a valid email: ['Moodle_Email: koos@email.com']\n",
            "Peter Pumpkineater has a valid email: ['Moodle_Email: peter@email.com']\n",
            "Pieter de Coning has an invalid email: ['Moodle_Email: pieteremail.com']\n",
            "Gert Coetzee has a valid email: ['Moodle_Email: gert@google.com']\n",
            "Jan Pierewiet has a valid email: ['Moodle_Email: JanP@outlook.com']\n",
            "Blake Turner has a valid email: ['Moodle_Email: thompsonpeter@example.org']\n",
            "Amy Tran has a valid email: ['Moodle_Email: gpacheco@example.net']\n",
            "Anna Marsh has a valid email: ['Moodle_Email: turnerstephanie@example.com']\n",
            "William Edwards has a valid email: ['Moodle_Email: patrick79@example.com']\n",
            "Thomas Dixon has a valid email: ['Moodle_Email: usims@example.net']\n",
            "Jonathan Morton has a valid email: ['Moodle_Email: deborahcuevas@example.net']\n",
            "Russell Frederick has a valid email: ['Moodle_Email: markbutler@example.org']\n",
            "John Bowman has a valid email: ['Moodle_Email: samanthabrown@example.net']\n",
            "Alyssa White has a valid email: ['Moodle_Email: millerdouglas@example.org']\n",
            "Katrina Cook has a valid email: ['Moodle_Email: leemary@example.com']\n",
            "\n",
            "Email address report (EnrolmentForm2.xlsx):\n",
            "Mike Hassett has a valid email: ['Moodle_Email: mike@mail.com']\n",
            "Ben Burger has a valid email: ['Moodle_Email: ben@gmail.com']\n",
            "Clive Greenwood has a valid email: ['Moodle_Email: clive@trustytransport.co.za']\n",
            "Coolhand Luke has a valid email: ['Moodle_Email: coolhand@yahoo.com']\n",
            "Steph Rossouw has a valid email: ['Moodle_Email: steph@windhoek.co.na']\n",
            "Gert Coetzee has a valid email: ['Moodle_Email: gert@google.com']\n",
            "Jan Pierewiet has a valid email: ['Moodle_Email: JanP@outlook.com']\n",
            "Blake Turner has a valid email: ['Moodle_Email: thompsonpeter@example.org']\n",
            "Amy Tran has a valid email: ['Moodle_Email: gpacheco@example.net']\n"
          ]
        }
      ]
    },
    {
      "cell_type": "markdown",
      "source": [
        "**Office 365 Requirements:**"
      ],
      "metadata": {
        "id": "HTp3yduR8LZI"
      }
    },
    {
      "cell_type": "code",
      "source": [
        "# Check if student requires Office 365\n",
        "def o365_count(subs_list, form_name):\n",
        "  o365_y = []\n",
        "  o365_n = []\n",
        "\n",
        "  for sub in subs_list:\n",
        "      if str(sub.Need_365).strip().lower() in ('yes', 'y'):\n",
        "          o365_y.append(sub)\n",
        "      else:\n",
        "          o365_n.append(sub)\n",
        "\n",
        "  print(f'{form_name}')\n",
        "  print(f'O365 Required (Yes): {len(o365_y)} \\nO365 Required (No): {len(o365_n)}')\n",
        "  print()\n",
        "  return o365_y, o365_n\n",
        "\n",
        "o365_y1, o365_n1 = o365_count(subs1, 'EnrolmentForm1.xlsx')\n",
        "o365_y2, o365_n2 = o365_count(subs2, 'EnrolmentForm2.xlsx')\n"
      ],
      "metadata": {
        "colab": {
          "base_uri": "https://localhost:8080/"
        },
        "id": "GZLhS18JUPY8",
        "outputId": "df46f94c-9c1d-4cd6-9a85-6773b5bab4fc"
      },
      "execution_count": 57,
      "outputs": [
        {
          "output_type": "stream",
          "name": "stdout",
          "text": [
            "EnrolmentForm1.xlsx\n",
            "O365 Required (Yes): 7 \n",
            "O365 Required (No): 10\n",
            "\n",
            "EnrolmentForm2.xlsx\n",
            "O365 Required (Yes): 5 \n",
            "O365 Required (No): 4\n",
            "\n"
          ]
        }
      ]
    },
    {
      "cell_type": "markdown",
      "source": [
        "**Available Dates:**"
      ],
      "metadata": {
        "id": "KEe6SqCsfIvr"
      }
    },
    {
      "cell_type": "code",
      "source": [
        "# Check alternative dates for people unable attend\n",
        "for sub in subs1:\n",
        "  if sub.Attending.strip().lower() in ['no', 'n']:\n",
        "    try:\n",
        "      date_str = sub.Alternative\n",
        "\n",
        "      if isinstance(date_str, str):\n",
        "        date = datetime.strptime(date_str.strip(), '%d/%m/%Y')\n",
        "      elif isinstance(date_str, datetime):\n",
        "        date = date_str\n",
        "      else:\n",
        "        raise ValueError(\"The Alternative date is not a string or datetime object.\")\n",
        "\n",
        "      print(f'{sub.full_name}, will be able to attend on: {date.strftime(\"%Y/%m/%d\")}.')\n",
        "\n",
        "    except ValueError:\n",
        "      print(f'{sub.full_name}, entered an invalid date: \\\"{sub.Alternative.strip()}\\\", and can be contacted on {sub.Moodle_Email.strip()} to confirm alternative date(s).')\n"
      ],
      "metadata": {
        "id": "VQ3QWFohfgUL",
        "colab": {
          "base_uri": "https://localhost:8080/"
        },
        "outputId": "ecf1eb68-9589-4b1b-ecde-6999d282898c"
      },
      "execution_count": 58,
      "outputs": [
        {
          "output_type": "stream",
          "name": "stdout",
          "text": [
            "Jan Pampoen, entered an invalid date: \"NA\", and can be contacted on jan@email.com to confirm alternative date(s).\n",
            "Koos Kakebeen, entered an invalid date: \"Help\", and can be contacted on koos@email.com to confirm alternative date(s).\n",
            "Pieter de Coning, will be able to attend on: 2025/10/05.\n",
            "Amy Tran, will be able to attend on: 2025/07/10.\n",
            "Thomas Dixon, will be able to attend on: 2025/07/17.\n",
            "Russell Frederick, will be able to attend on: 2025/07/22.\n",
            "John Bowman, will be able to attend on: 2025/08/23.\n",
            "Alyssa White, will be able to attend on: 2025/07/10.\n",
            "Katrina Cook, will be able to attend on: 2025/08/04.\n"
          ]
        }
      ]
    },
    {
      "cell_type": "markdown",
      "source": [
        "**Duplicate Email Check:**"
      ],
      "metadata": {
        "id": "8OK6UACy8RoO"
      }
    },
    {
      "cell_type": "code",
      "source": [
        "# Duplicate email check\n",
        "duplicate_emails = []\n",
        "new_subs1_emails = []\n",
        "new_subs2_emails = []\n",
        "\n",
        "for full_name in subs1:\n",
        "  if full_name in subs2 and full_name not in duplicate_emails:\n",
        "    duplicate_emails.append(full_name)\n",
        "  else:\n",
        "    if full_name not in new_subs1_emails:\n",
        "      new_subs1_emails.append(full_name)\n",
        "\n",
        "for full_name in subs2:\n",
        "  if full_name not in duplicate_emails and full_name not in new_subs2_emails:\n",
        "    new_subs2_emails.append(full_name)\n",
        "\n",
        "for duplicate_email in duplicate_emails:\n",
        "  if len(new_subs1_emails) < len(new_subs2_emails):\n",
        "    new_subs1_emails.append(duplicate_emails)\n",
        "  else:\n",
        "    new_subs2_emails.append(duplicate_email)\n",
        "\n",
        "print(f'Original registrations (subs1): {len(subs1)}')\n",
        "print(f'Original registrations (subs2): {len(subs2)}')\n",
        "print()\n",
        "print(f'Duplicate submissions (Number): {len(duplicate_emails)}')\n",
        "print(f'New subs1 Emails (cohort 1): {len(new_subs1_emails)}')\n",
        "print(f'New subs2 Emails (cohort 2): {len(new_subs2_emails)}')\n",
        "\n"
      ],
      "metadata": {
        "colab": {
          "base_uri": "https://localhost:8080/"
        },
        "id": "IfaaVxrY8Q38",
        "outputId": "15f3a3d7-5eb0-4802-df0a-4cfe82ef2f34"
      },
      "execution_count": 59,
      "outputs": [
        {
          "output_type": "stream",
          "name": "stdout",
          "text": [
            "Original registrations (subs1): 17\n",
            "Original registrations (subs2): 9\n",
            "\n",
            "Duplicate submissions (Number): 4\n",
            "New subs1 Emails (cohort 1): 13\n",
            "New subs2 Emails (cohort 2): 9\n"
          ]
        }
      ]
    },
    {
      "cell_type": "markdown",
      "source": [
        "**Send Email to Students:**"
      ],
      "metadata": {
        "id": "VPir4JawzQiM"
      }
    },
    {
      "cell_type": "code",
      "source": [
        "# Send emails to students\n",
        "def send_emails(cohort):\n",
        "  for student in cohort:\n",
        "    print(f'Sending email to Student: {student.ID}')\n",
        "\n",
        "print('Sending emails to Form1 students:')\n",
        "send_emails(new_subs1_emails)\n",
        "print()\n",
        "print('Sending emails to Form2 students:')\n",
        "send_emails(new_subs2_emails)"
      ],
      "metadata": {
        "colab": {
          "base_uri": "https://localhost:8080/"
        },
        "id": "z5lNkKhqzlUB",
        "outputId": "333ad5d2-1494-433f-b355-f20c67fc4693"
      },
      "execution_count": 66,
      "outputs": [
        {
          "output_type": "stream",
          "name": "stdout",
          "text": [
            "Sending emails to Form1 students:\n",
            "Sending email to Student: 1\n",
            "Sending email to Student: 2\n",
            "Sending email to Student: 3\n",
            "Sending email to Student: 4\n",
            "Sending email to Student: 5\n",
            "Sending email to Student: 10\n",
            "Sending email to Student: 11\n",
            "Sending email to Student: 12\n",
            "Sending email to Student: 13\n",
            "Sending email to Student: 14\n",
            "Sending email to Student: 15\n",
            "Sending email to Student: 16\n",
            "Sending email to Student: 17\n",
            "\n",
            "Sending emails to Form2 students:\n",
            "Sending email to Student: 1\n",
            "Sending email to Student: 2\n",
            "Sending email to Student: 3\n",
            "Sending email to Student: 4\n",
            "Sending email to Student: 5\n",
            "Sending email to Student: 6\n",
            "Sending email to Student: 7\n",
            "Sending email to Student: 8\n",
            "Sending email to Student: 9\n"
          ]
        }
      ]
    },
    {
      "cell_type": "markdown",
      "source": [
        "**Sending Email to Code Division:**"
      ],
      "metadata": {
        "id": "6VPZ1IQrGpEE"
      }
    },
    {
      "cell_type": "code",
      "source": [
        "# Prepare email body as a string\n",
        "body_lines = []\n",
        "\n",
        "body_lines.append(f'\\n{len(new_subs1_emails)} Students registered as part of Cohort 1 (EnrolmentForm1.xlsx):')\n",
        "for student in new_subs1_emails:\n",
        "    body_lines.append(f'{student.full_name} - ({student.Moodle_Email})')\n",
        "\n",
        "body_lines.append(f'\\n{len(new_subs2_emails)} Students registered as part of Cohort 2 (EnrolmentForm2.xlsx):')\n",
        "for student in new_subs2_emails:\n",
        "    body_lines.append(f'{student.full_name} - ({student.Moodle_Email})')\n",
        "\n",
        "email_body = '\\n'.join(body_lines)\n",
        "\n",
        "# Sending the Email\n",
        "success = send(\n",
        "    sender = email,\n",
        "    app_pass = pw,\n",
        "    recip = \"eugene@anysupport.co.uk\",\n",
        "    sub = \"Test Email from Colab\",\n",
        "    body = email_body\n",
        ")\n",
        "\n",
        "print(email_body)"
      ],
      "metadata": {
        "id": "ILe8hocqGtAw",
        "colab": {
          "base_uri": "https://localhost:8080/"
        },
        "outputId": "33796c00-f241-4e0b-fc48-ffee3d5505d0"
      },
      "execution_count": 64,
      "outputs": [
        {
          "output_type": "stream",
          "name": "stdout",
          "text": [
            "Email sent successfully!\n",
            "\n",
            "13 Students registered as part of Cohort 1 (EnrolmentForm1.xlsx):\n",
            "Piet Pompies - (piet@email.com)\n",
            "Jan Pampoen - (jan@email.com)\n",
            "Koos Kakebeen - (koos@email.com)\n",
            "Peter Pumpkineater - (peter@email.com)\n",
            "Pieter de Coning - (pieteremail.com)\n",
            "Anna Marsh - (turnerstephanie@example.com)\n",
            "William Edwards - (patrick79@example.com)\n",
            "Thomas Dixon - (usims@example.net)\n",
            "Jonathan Morton - (deborahcuevas@example.net)\n",
            "Russell Frederick - (markbutler@example.org)\n",
            "John Bowman - (samanthabrown@example.net)\n",
            "Alyssa White - (millerdouglas@example.org)\n",
            "Katrina Cook - (leemary@example.com)\n",
            "\n",
            "9 Students registered as part of Cohort 2 (EnrolmentForm2.xlsx):\n",
            "Mike Hassett - (mike@mail.com)\n",
            "Ben Burger - (ben@gmail.com)\n",
            "Clive Greenwood - (clive@trustytransport.co.za)\n",
            "Coolhand Luke - (coolhand@yahoo.com)\n",
            "Steph Rossouw - (steph@windhoek.co.na)\n",
            "Gert Coetzee - (gert@google.com)\n",
            "Jan Pierewiet - (JanP@outlook.com)\n",
            "Blake Turner - (thompsonpeter@example.org)\n",
            "Amy Tran - (gpacheco@example.net)\n"
          ]
        }
      ]
    }
  ]
}