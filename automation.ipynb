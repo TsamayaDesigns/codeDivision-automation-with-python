{
  "nbformat": 4,
  "nbformat_minor": 0,
  "metadata": {
    "colab": {
      "provenance": [],
      "include_colab_link": true
    },
    "kernelspec": {
      "name": "python3",
      "display_name": "Python 3"
    },
    "language_info": {
      "name": "python"
    }
  },
  "cells": [
    {
      "cell_type": "markdown",
      "metadata": {
        "id": "view-in-github",
        "colab_type": "text"
      },
      "source": [
        "<a href=\"https://colab.research.google.com/github/TsamayaDesigns/codeDivision-automation-with-python/blob/main/automation.ipynb\" target=\"_parent\"><img src=\"https://colab.research.google.com/assets/colab-badge.svg\" alt=\"Open In Colab\"/></a>"
      ]
    },
    {
      "cell_type": "markdown",
      "source": [
        "**Mount Google Drive & Set Working Directory:**"
      ],
      "metadata": {
        "id": "fC_mjGsHkskR"
      }
    },
    {
      "cell_type": "code",
      "source": [
        "# 1️⃣ Mount Google Drive\n",
        "from google.colab import drive\n",
        "drive.mount('/content/drive/', force_remount=True)\n",
        "\n",
        "# 2️⃣ Set Working Directory\n",
        "import os\n",
        "working_dir = '/content/drive/MyDrive/codeDivision'\n",
        "os.makedirs(working_dir, exist_ok=True)\n",
        "os.chdir(working_dir)\n",
        "\n",
        "# 3️⃣ Confirm Current Working Directory\n",
        "print(f\"Current working directory is: {os.getcwd()}\")"
      ],
      "metadata": {
        "id": "5obh37fuga35",
        "colab": {
          "base_uri": "https://localhost:8080/"
        },
        "outputId": "52b314a7-1689-4ef6-cc51-6057bff19ed0"
      },
      "execution_count": 17,
      "outputs": [
        {
          "output_type": "stream",
          "name": "stdout",
          "text": [
            "Mounted at /content/drive/\n",
            "Current working directory is: /content/drive/MyDrive/codeDivision\n"
          ]
        }
      ]
    },
    {
      "cell_type": "markdown",
      "source": [
        "**Query the Data:**"
      ],
      "metadata": {
        "id": "_yUpcaBZJOMd"
      }
    },
    {
      "cell_type": "code",
      "execution_count": 18,
      "metadata": {
        "id": "i0UHOHvbZWYN",
        "colab": {
          "base_uri": "https://localhost:8080/"
        },
        "outputId": "95393df9-a682-4604-dbed-4ad37e37e882"
      },
      "outputs": [
        {
          "output_type": "stream",
          "name": "stdout",
          "text": [
            "The number of fields input into the read_sheet function do not match the number of fields and so no field changes have been made\n"
          ]
        }
      ],
      "source": [
        "import re\n",
        "import pandas as pd\n",
        "from smtp import send\n",
        "from datetime import datetime\n",
        "from excel_tools import read_sheet\n",
        "from creds import email, pw\n",
        "\n",
        "fields = ['ID', 'Start_time', 'Completion_time', 'User_Email', 'Name', 'Last_modified_time', 'full_name', 'Need_365', 'Mac_or_PC', 'Moodle_Email', 'Attending', 'Alternative', 'Council', 'Postcode', 'NeuroDivergent', 'Woman', 'Minority', 'Disabled', 'Refugee']\n",
        "subs1 = read_sheet('EnrolmentForm1.xlsx', fields = fields)\n",
        "subs2 = read_sheet('EnrolmentForm2.xlsx', fields = fields)\n"
      ]
    },
    {
      "cell_type": "markdown",
      "source": [
        "**Check Attendance:**"
      ],
      "metadata": {
        "id": "b-zbDhIK8vUK"
      }
    },
    {
      "cell_type": "code",
      "source": [
        "# Check if person is attending\n",
        "def attendance(subs_list):\n",
        "  attend_y = []\n",
        "  attend_n = []\n",
        "\n",
        "  for sub in subs_list:\n",
        "      if str(sub.Attending).strip().lower() in ('yes', 'y'):\n",
        "          attend_y.append(sub)\n",
        "      else:\n",
        "          attend_n.append(sub)\n",
        "\n",
        "  print(f'Attendance Yes: {len(attend_y)} \\nAttendance No: {len(attend_n)}')\n",
        "  return attend_y, attend_n\n",
        "\n",
        "attend_y1, attend_n1 = attendance(subs1)\n",
        "attend_y2, attend_n2 = attendance(subs2)\n"
      ],
      "metadata": {
        "id": "G-TRcpX_8tWv",
        "colab": {
          "base_uri": "https://localhost:8080/"
        },
        "outputId": "716ce552-d7d9-4e91-ee8b-a395ed32dd8d"
      },
      "execution_count": 5,
      "outputs": [
        {
          "output_type": "stream",
          "name": "stdout",
          "text": [
            "Attendance Yes: 8 \n",
            "Attendance No: 9\n",
            "Attendance Yes: 11 \n",
            "Attendance No: 8\n"
          ]
        }
      ]
    },
    {
      "cell_type": "markdown",
      "source": [
        "**Email address validation:**"
      ],
      "metadata": {
        "id": "GbPp2z7_U9q9"
      }
    },
    {
      "cell_type": "code",
      "source": [
        "# Check if email address is valid\n",
        "EMAIL_REGEX = re.compile(\n",
        "    r\"^[a-zA-Z0-9_.+-]+@[a-zA-Z0-9-]+\\.[a-zA-Z0-9-.]+$\"\n",
        ")\n",
        "\n",
        "def validate_emails(Moodle_Email):\n",
        "  valid_emails = []\n",
        "  invalid_emails = []\n",
        "\n",
        "  if not EMAIL_REGEX.match(Moodle_Email.strip()):\n",
        "    invalid_emails.append(f'Moodle_Email: {Moodle_Email.strip()}')\n",
        "  else:\n",
        "    valid_emails.append(f'Moodle_Email: {Moodle_Email.strip()}')\n",
        "\n",
        "  return invalid_emails, valid_emails\n",
        "\n",
        "\n",
        "# Print all valid emails\n",
        "def get_valid_emails(subs_list, form_name):\n",
        "  # Collect all valid emails\n",
        "  form_valid_emails = []\n",
        "\n",
        "  for sub in subs_list:\n",
        "      _, valid_emails = validate_emails(sub.Moodle_Email)\n",
        "\n",
        "      if valid_emails:\n",
        "        form_valid_emails.append((sub.full_name, sub.Moodle_Email))\n",
        "\n",
        "  print(f'Valid emails from {form_name}: {form_valid_emails}')\n",
        "  return form_valid_emails\n",
        "\n",
        "valid_emails_f1 = get_valid_emails(subs1, 'EnrolmentForm1.xlsx')\n",
        "valid_emails_f2 = get_valid_emails(subs2, 'EnrolmentForm2.xlsx')\n",
        "print()\n",
        "\n",
        "# Print email address report (for each person)\n",
        "def email_address_report(subs_list, form_name):\n",
        "  print(f'Email address report {form_name}:')\n",
        "  for sub in subs_list:\n",
        "      invalid_emails, valid_emails = validate_emails(sub.Moodle_Email)\n",
        "\n",
        "      if invalid_emails:\n",
        "          print(sub.full_name, 'has an invalid email:', invalid_emails)\n",
        "\n",
        "      if valid_emails:\n",
        "          print(sub.full_name, 'has a valid email:', valid_emails)\n",
        "\n",
        "email_address_report(subs1, '(EnrolmentForm1.xlsx)')\n",
        "print()\n",
        "email_address_report(subs2, '(EnrolmentForm2.xlsx)')"
      ],
      "metadata": {
        "id": "kysH6j0PU1Sy",
        "colab": {
          "base_uri": "https://localhost:8080/"
        },
        "outputId": "3b6b2d48-8fec-4e56-deeb-e9d2c266334f"
      },
      "execution_count": 6,
      "outputs": [
        {
          "output_type": "stream",
          "name": "stdout",
          "text": [
            "Valid emails from EnrolmentForm1.xlsx: [('Piet Pompies', 'piet@email.com'), ('Jan Pampoen', 'jan@email.com'), ('Koos Kakebeen', 'koos@email.com'), ('Peter Pumpkineater', 'peter@email.com'), ('Gert Coetzee', 'gert@google.com'), ('Jan Pierewiet', 'JanP@outlook.com'), ('Blake Turner', 'thompsonpeter@example.org'), ('Amy Tran', 'gpacheco@example.net'), ('Anna Marsh', 'turnerstephanie@example.com'), ('William Edwards', 'patrick79@example.com'), ('Thomas Dixon', 'usims@example.net'), ('Jonathan Morton', 'deborahcuevas@example.net'), ('Russell Frederick', 'markbutler@example.org'), ('John Bowman', 'samanthabrown@example.net'), ('Alyssa White', 'millerdouglas@example.org'), ('Katrina Cook', 'leemary@example.com')]\n",
            "Valid emails from EnrolmentForm2.xlsx: [('Mike Hassett', 'mike@mail.com'), ('Ben Burger', 'ben@gmail.com'), ('Clive Greenwood', 'clive@trustytransport.co.za'), ('Coolhand Luke', 'coolhand@yahoo.com'), ('Steph Rossouw', 'steph@windhoek.co.na'), ('Gert Coetzee', 'gert@google.com'), ('Jan Pierewiet', 'JanP@outlook.com'), ('Blake Turner', 'thompsonpeter@example.org'), ('Amy Tran', 'gpacheco@example.net'), ('Sierra Johnson', 'connor11@example.com'), ('Kimberly Brown', 'sabrina37@example.com'), ('Eric Hogan', 'dana48@example.org'), ('Tammy Davis', 'kevin77@example.org'), ('Carolyn Nguyen', 'thomasjoseph@example.com'), ('Kyle Barber', 'owalker@example.org'), ('Karen Woods', 'mckayangela@example.com'), ('Matthew Rangel', 'wknight@example.net'), ('Stephanie Johnston', 'hdowns@example.net'), ('Gloria Johnson', 'andrewcastillo@example.org')]\n",
            "\n",
            "Email address report (EnrolmentForm1.xlsx):\n",
            "Piet Pompies has a valid email: ['Moodle_Email: piet@email.com']\n",
            "Jan Pampoen has a valid email: ['Moodle_Email: jan@email.com']\n",
            "Koos Kakebeen has a valid email: ['Moodle_Email: koos@email.com']\n",
            "Peter Pumpkineater has a valid email: ['Moodle_Email: peter@email.com']\n",
            "Pieter de Coning has an invalid email: ['Moodle_Email: pieteremail.com']\n",
            "Gert Coetzee has a valid email: ['Moodle_Email: gert@google.com']\n",
            "Jan Pierewiet has a valid email: ['Moodle_Email: JanP@outlook.com']\n",
            "Blake Turner has a valid email: ['Moodle_Email: thompsonpeter@example.org']\n",
            "Amy Tran has a valid email: ['Moodle_Email: gpacheco@example.net']\n",
            "Anna Marsh has a valid email: ['Moodle_Email: turnerstephanie@example.com']\n",
            "William Edwards has a valid email: ['Moodle_Email: patrick79@example.com']\n",
            "Thomas Dixon has a valid email: ['Moodle_Email: usims@example.net']\n",
            "Jonathan Morton has a valid email: ['Moodle_Email: deborahcuevas@example.net']\n",
            "Russell Frederick has a valid email: ['Moodle_Email: markbutler@example.org']\n",
            "John Bowman has a valid email: ['Moodle_Email: samanthabrown@example.net']\n",
            "Alyssa White has a valid email: ['Moodle_Email: millerdouglas@example.org']\n",
            "Katrina Cook has a valid email: ['Moodle_Email: leemary@example.com']\n",
            "\n",
            "Email address report (EnrolmentForm2.xlsx):\n",
            "Mike Hassett has a valid email: ['Moodle_Email: mike@mail.com']\n",
            "Ben Burger has a valid email: ['Moodle_Email: ben@gmail.com']\n",
            "Clive Greenwood has a valid email: ['Moodle_Email: clive@trustytransport.co.za']\n",
            "Coolhand Luke has a valid email: ['Moodle_Email: coolhand@yahoo.com']\n",
            "Steph Rossouw has a valid email: ['Moodle_Email: steph@windhoek.co.na']\n",
            "Gert Coetzee has a valid email: ['Moodle_Email: gert@google.com']\n",
            "Jan Pierewiet has a valid email: ['Moodle_Email: JanP@outlook.com']\n",
            "Blake Turner has a valid email: ['Moodle_Email: thompsonpeter@example.org']\n",
            "Amy Tran has a valid email: ['Moodle_Email: gpacheco@example.net']\n",
            "Sierra Johnson has a valid email: ['Moodle_Email: connor11@example.com']\n",
            "Kimberly Brown has a valid email: ['Moodle_Email: sabrina37@example.com']\n",
            "Eric Hogan has a valid email: ['Moodle_Email: dana48@example.org']\n",
            "Tammy Davis has a valid email: ['Moodle_Email: kevin77@example.org']\n",
            "Carolyn Nguyen has a valid email: ['Moodle_Email: thomasjoseph@example.com']\n",
            "Kyle Barber has a valid email: ['Moodle_Email: owalker@example.org']\n",
            "Karen Woods has a valid email: ['Moodle_Email: mckayangela@example.com']\n",
            "Matthew Rangel has a valid email: ['Moodle_Email: wknight@example.net']\n",
            "Stephanie Johnston has a valid email: ['Moodle_Email: hdowns@example.net']\n",
            "Gloria Johnson has a valid email: ['Moodle_Email: andrewcastillo@example.org']\n"
          ]
        }
      ]
    },
    {
      "cell_type": "markdown",
      "source": [
        "**Office 365 Requirements:**"
      ],
      "metadata": {
        "id": "HTp3yduR8LZI"
      }
    },
    {
      "cell_type": "code",
      "source": [
        "# Check if student requires Office 365\n",
        "def o365_count(subs_list, form_name):\n",
        "  o365_y = []\n",
        "  o365_n = []\n",
        "\n",
        "  for sub in subs_list:\n",
        "      if str(sub.Need_365).strip().lower() in ('yes', 'y'):\n",
        "          o365_y.append(sub)\n",
        "      else:\n",
        "          o365_n.append(sub)\n",
        "\n",
        "  print(f'{form_name}')\n",
        "  print(f'O365 Required (Yes): {len(o365_y)} \\nO365 Required (No): {len(o365_n)}')\n",
        "  print()\n",
        "  return o365_y, o365_n\n",
        "\n",
        "o365_y1, o365_n1 = o365_count(subs1, 'EnrolmentForm1.xlsx')\n",
        "o365_y2, o365_n2 = o365_count(subs2, 'EnrolmentForm2.xlsx')\n"
      ],
      "metadata": {
        "id": "GZLhS18JUPY8",
        "colab": {
          "base_uri": "https://localhost:8080/"
        },
        "outputId": "2ec16a7d-79dd-4a3f-84f3-179563def574"
      },
      "execution_count": 7,
      "outputs": [
        {
          "output_type": "stream",
          "name": "stdout",
          "text": [
            "EnrolmentForm1.xlsx\n",
            "O365 Required (Yes): 7 \n",
            "O365 Required (No): 10\n",
            "\n",
            "EnrolmentForm2.xlsx\n",
            "O365 Required (Yes): 10 \n",
            "O365 Required (No): 9\n",
            "\n"
          ]
        }
      ]
    },
    {
      "cell_type": "markdown",
      "source": [
        "**Available Dates:**"
      ],
      "metadata": {
        "id": "KEe6SqCsfIvr"
      }
    },
    {
      "cell_type": "code",
      "source": [
        "# Check alternative dates for people unable attend\n",
        "for sub in subs1:\n",
        "  if sub.Attending.strip().lower() in ['no', 'n']:\n",
        "    try:\n",
        "      date_str = sub.Alternative\n",
        "\n",
        "      if isinstance(date_str, str):\n",
        "        date = datetime.strptime(date_str.strip(), '%d/%m/%Y')\n",
        "      elif isinstance(date_str, datetime):\n",
        "        date = date_str\n",
        "      else:\n",
        "        raise ValueError(\"The Alternative date is not a string or datetime object.\")\n",
        "\n",
        "      print(f'{sub.full_name}, will be able to attend on: {date.strftime(\"%Y/%m/%d\")}.')\n",
        "\n",
        "    except ValueError:\n",
        "      print(f'{sub.full_name}, entered an invalid date: \\\"{sub.Alternative.strip()}\\\", and can be contacted on {sub.Moodle_Email.strip()} to confirm alternative date(s).')\n"
      ],
      "metadata": {
        "id": "VQ3QWFohfgUL",
        "colab": {
          "base_uri": "https://localhost:8080/"
        },
        "outputId": "8a65f890-4124-428c-9530-655377de0ec1"
      },
      "execution_count": 8,
      "outputs": [
        {
          "output_type": "stream",
          "name": "stdout",
          "text": [
            "Jan Pampoen, entered an invalid date: \"NA\", and can be contacted on jan@email.com to confirm alternative date(s).\n",
            "Koos Kakebeen, entered an invalid date: \"Help\", and can be contacted on koos@email.com to confirm alternative date(s).\n",
            "Pieter de Coning, will be able to attend on: 2025/10/05.\n",
            "Amy Tran, will be able to attend on: 2025/07/10.\n",
            "Thomas Dixon, will be able to attend on: 2025/07/17.\n",
            "Russell Frederick, will be able to attend on: 2025/07/22.\n",
            "John Bowman, will be able to attend on: 2025/08/23.\n",
            "Alyssa White, will be able to attend on: 2025/07/10.\n",
            "Katrina Cook, will be able to attend on: 2025/08/04.\n"
          ]
        }
      ]
    },
    {
      "cell_type": "markdown",
      "source": [
        "**Duplicate Email Check:**"
      ],
      "metadata": {
        "id": "8OK6UACy8RoO"
      }
    },
    {
      "cell_type": "code",
      "source": [
        "# Duplicate email check\n",
        "duplicate_emails = []\n",
        "new_subs1_emails = []\n",
        "new_subs2_emails = []\n",
        "\n",
        "for full_name in subs1:\n",
        "  if full_name in subs2 and full_name not in duplicate_emails:\n",
        "    duplicate_emails.append(full_name)\n",
        "  else:\n",
        "    if full_name not in new_subs1_emails:\n",
        "      new_subs1_emails.append(full_name)\n",
        "\n",
        "for full_name in subs2:\n",
        "  if full_name not in duplicate_emails and full_name not in new_subs2_emails:\n",
        "    new_subs2_emails.append(full_name)\n",
        "\n",
        "for duplicate_email in duplicate_emails:\n",
        "  if len(new_subs1_emails) < len(new_subs2_emails):\n",
        "    new_subs1_emails.append(duplicate_email)\n",
        "  else:\n",
        "    new_subs2_emails.append(duplicate_email)\n",
        "\n",
        "print(f'Original registrations (subs1): {len(subs1)}')\n",
        "print(f'Original registrations (subs2): {len(subs2)}')\n",
        "print()\n",
        "print(f'Duplicate submissions (Number): {len(duplicate_emails)}')\n",
        "print(f'New subs1 Emails (cohort 1): {len(new_subs1_emails)}')\n",
        "print(f'New subs2 Emails (cohort 2): {len(new_subs2_emails)}')\n",
        "\n"
      ],
      "metadata": {
        "id": "IfaaVxrY8Q38",
        "colab": {
          "base_uri": "https://localhost:8080/"
        },
        "outputId": "2f33082c-ebda-4385-e5b8-3ad405993172"
      },
      "execution_count": 9,
      "outputs": [
        {
          "output_type": "stream",
          "name": "stdout",
          "text": [
            "Original registrations (subs1): 17\n",
            "Original registrations (subs2): 19\n",
            "\n",
            "Duplicate submissions (Number): 4\n",
            "New subs1 Emails (cohort 1): 16\n",
            "New subs2 Emails (cohort 2): 16\n"
          ]
        }
      ]
    },
    {
      "cell_type": "markdown",
      "source": [
        "**TEST - New Student Emails**"
      ],
      "metadata": {
        "id": "fv16HFwHATGB"
      }
    },
    {
      "cell_type": "code",
      "source": [
        "# Send emails to students\n",
        "def read_text(path):\n",
        "  with open(path, 'r', encoding='utf-8') as file:\n",
        "    text = file.read()\n",
        "  return text\n",
        "\n",
        "message = read_text('body.txt')\n",
        "\n",
        "print(message)\n",
        "\n",
        "def send_emails(cohort, cohort_name):\n",
        "  print(f'=== Sending emails to {cohort_name} students ===')\n",
        "  for student in cohort:\n",
        "    print(f'\\nSending email to Student: {student.full_name} - (Student ID: {student.ID}) - ({student.Moodle_Email})')\n",
        "\n",
        "    # Call message function\n",
        "    email_body = message.format(student = student.full_name, date = '20/09/2025')\n",
        "\n",
        "\n",
        "    # Sending the Email\n",
        "    success = send(\n",
        "        sender = email,\n",
        "        app_pass = pw,\n",
        "        recip = \"registrations@anysupport.co.uk\", # Enter \"student.Moodle_Email\" if sending to students\n",
        "        sub = \"Test Email from Colab\",\n",
        "        body = email_body\n",
        "    )\n",
        "\n",
        "    if success:\n",
        "      print(f'Email sent successfully to {student.full_name}.')\n",
        "    else:\n",
        "      print(f'Failed to send email to {student.full_name} - (Student ID: {student.ID}) - ({student.Moodle_Email})')\n",
        "\n",
        "\n",
        "# Send emails\n",
        "\n",
        "send_emails(new_subs1_emails, \"Cohort 1\")\n",
        "print()\n",
        "send_emails(new_subs2_emails, \"Cohort 2\")"
      ],
      "metadata": {
        "colab": {
          "base_uri": "https://localhost:8080/"
        },
        "id": "jMJsLriQAZ0k",
        "outputId": "9a4fd9c0-ea18-4606-97bf-3fca120ef38c"
      },
      "execution_count": 22,
      "outputs": [
        {
          "output_type": "stream",
          "name": "stdout",
          "text": [
            "Hi {student},\n",
            "\n",
            "Thank you for enroling on the course of {date} for Python.\n",
            "\n",
            "We look forward to seeing you on the course.\n",
            "\n",
            "Kind regards,\n",
            "\n",
            "Code Division\n",
            "=== Sending emails to Cohort 1 students ===\n",
            "\n",
            "Sending email to Student: Piet Pompies - (Student ID: 1) - (piet@email.com)\n",
            "Email sent successfully!\n",
            "Email sent successfully to Piet Pompies.\n",
            "\n",
            "Sending email to Student: Jan Pampoen - (Student ID: 2) - (jan@email.com)\n",
            "Email sent successfully!\n",
            "Email sent successfully to Jan Pampoen.\n",
            "\n",
            "Sending email to Student: Koos Kakebeen - (Student ID: 3) - (koos@email.com)\n",
            "Email sent successfully!\n",
            "Email sent successfully to Koos Kakebeen.\n",
            "\n",
            "Sending email to Student: Peter Pumpkineater - (Student ID: 4) - (peter@email.com)\n",
            "Email sent successfully!\n",
            "Email sent successfully to Peter Pumpkineater.\n",
            "\n",
            "Sending email to Student: Pieter de Coning - (Student ID: 5) - (pieteremail.com)\n",
            "Email sent successfully!\n",
            "Email sent successfully to Pieter de Coning.\n",
            "\n",
            "Sending email to Student: Anna Marsh - (Student ID: 10) - (turnerstephanie@example.com)\n",
            "Email sent successfully!\n",
            "Email sent successfully to Anna Marsh.\n",
            "\n",
            "Sending email to Student: William Edwards - (Student ID: 11) - (patrick79@example.com)\n",
            "Email sent successfully!\n",
            "Email sent successfully to William Edwards.\n",
            "\n",
            "Sending email to Student: Thomas Dixon - (Student ID: 12) - (usims@example.net)\n",
            "Email sent successfully!\n",
            "Email sent successfully to Thomas Dixon.\n",
            "\n",
            "Sending email to Student: Jonathan Morton - (Student ID: 13) - (deborahcuevas@example.net)\n",
            "Email sent successfully!\n",
            "Email sent successfully to Jonathan Morton.\n",
            "\n",
            "Sending email to Student: Russell Frederick - (Student ID: 14) - (markbutler@example.org)\n",
            "Email sent successfully!\n",
            "Email sent successfully to Russell Frederick.\n",
            "\n",
            "Sending email to Student: John Bowman - (Student ID: 15) - (samanthabrown@example.net)\n",
            "Email sent successfully!\n",
            "Email sent successfully to John Bowman.\n",
            "\n",
            "Sending email to Student: Alyssa White - (Student ID: 16) - (millerdouglas@example.org)\n",
            "Email sent successfully!\n",
            "Email sent successfully to Alyssa White.\n",
            "\n",
            "Sending email to Student: Katrina Cook - (Student ID: 17) - (leemary@example.com)\n",
            "Email sent successfully!\n",
            "Email sent successfully to Katrina Cook.\n",
            "\n",
            "Sending email to Student: Gert Coetzee - (Student ID: 6) - (gert@google.com)\n",
            "Email sent successfully!\n",
            "Email sent successfully to Gert Coetzee.\n",
            "\n",
            "Sending email to Student: Jan Pierewiet - (Student ID: 7) - (JanP@outlook.com)\n",
            "Email sent successfully!\n",
            "Email sent successfully to Jan Pierewiet.\n",
            "\n",
            "Sending email to Student: Amy Tran - (Student ID: 9) - (gpacheco@example.net)\n",
            "Email sent successfully!\n",
            "Email sent successfully to Amy Tran.\n",
            "\n",
            "=== Sending emails to Cohort 2 students ===\n",
            "\n",
            "Sending email to Student: Mike Hassett - (Student ID: 1) - (mike@mail.com)\n",
            "Email sent successfully!\n",
            "Email sent successfully to Mike Hassett.\n",
            "\n",
            "Sending email to Student: Ben Burger - (Student ID: 2) - (ben@gmail.com)\n",
            "Email sent successfully!\n",
            "Email sent successfully to Ben Burger.\n",
            "\n",
            "Sending email to Student: Clive Greenwood - (Student ID: 3) - (clive@trustytransport.co.za)\n",
            "Email sent successfully!\n",
            "Email sent successfully to Clive Greenwood.\n",
            "\n",
            "Sending email to Student: Coolhand Luke - (Student ID: 4) - (coolhand@yahoo.com)\n",
            "Email sent successfully!\n",
            "Email sent successfully to Coolhand Luke.\n",
            "\n",
            "Sending email to Student: Steph Rossouw - (Student ID: 5) - (steph@windhoek.co.na)\n",
            "Email sent successfully!\n",
            "Email sent successfully to Steph Rossouw.\n",
            "\n",
            "Sending email to Student: Sierra Johnson - (Student ID: 10) - (connor11@example.com)\n",
            "Email sent successfully!\n",
            "Email sent successfully to Sierra Johnson.\n",
            "\n",
            "Sending email to Student: Kimberly Brown - (Student ID: 11) - (sabrina37@example.com)\n",
            "Email sent successfully!\n",
            "Email sent successfully to Kimberly Brown.\n",
            "\n",
            "Sending email to Student: Eric Hogan - (Student ID: 12) - (dana48@example.org)\n",
            "Email sent successfully!\n",
            "Email sent successfully to Eric Hogan.\n",
            "\n",
            "Sending email to Student: Tammy Davis - (Student ID: 13) - (kevin77@example.org)\n",
            "Email sent successfully!\n",
            "Email sent successfully to Tammy Davis.\n",
            "\n",
            "Sending email to Student: Carolyn Nguyen - (Student ID: 14) - (thomasjoseph@example.com)\n",
            "Email sent successfully!\n",
            "Email sent successfully to Carolyn Nguyen.\n",
            "\n",
            "Sending email to Student: Kyle Barber - (Student ID: 15) - (owalker@example.org)\n",
            "Email sent successfully!\n",
            "Email sent successfully to Kyle Barber.\n",
            "\n",
            "Sending email to Student: Karen Woods - (Student ID: 16) - (mckayangela@example.com)\n",
            "Email sent successfully!\n",
            "Email sent successfully to Karen Woods.\n",
            "\n",
            "Sending email to Student: Matthew Rangel - (Student ID: 17) - (wknight@example.net)\n",
            "Email sent successfully!\n",
            "Email sent successfully to Matthew Rangel.\n",
            "\n",
            "Sending email to Student: Stephanie Johnston - (Student ID: 18) - (hdowns@example.net)\n",
            "Email sent successfully!\n",
            "Email sent successfully to Stephanie Johnston.\n",
            "\n",
            "Sending email to Student: Gloria Johnson - (Student ID: 19) - (andrewcastillo@example.org)\n",
            "Email sent successfully!\n",
            "Email sent successfully to Gloria Johnson.\n",
            "\n",
            "Sending email to Student: Blake Turner - (Student ID: 8) - (thompsonpeter@example.org)\n",
            "Email sent successfully!\n",
            "Email sent successfully to Blake Turner.\n"
          ]
        }
      ]
    },
    {
      "cell_type": "markdown",
      "source": [
        "**Send Email to Students:**"
      ],
      "metadata": {
        "id": "VPir4JawzQiM"
      }
    },
    {
      "cell_type": "code",
      "source": [
        "# Send emails to students\n",
        "def send_emails(cohort, cohort_name):\n",
        "  print(f'=== Sending emails to {cohort_name} students ===')\n",
        "  for student in cohort:\n",
        "    print(f'\\nSending email to Student: {student.full_name} - (Student ID: {student.ID}) - ({student.Moodle_Email})')\n",
        "\n",
        "    # Prepare email body as a string\n",
        "    body_lines = []\n",
        "    body_lines.append(f'\\nYour application was successful, and you\\'ve been registered as part of {cohort_name}.')\n",
        "    # body_lines.append(f'{student.full_name} - ({student.Moodle_Email})')\n",
        "\n",
        "    email_body = '\\n'.join(body_lines)\n",
        "\n",
        "    print(email_body)\n",
        "\n",
        "    # Sending the Email\n",
        "    success = send(\n",
        "        sender = email,\n",
        "        app_pass = pw,\n",
        "        recip = \"registrations@anysupport.co.uk\", # Enter \"student.Moodle_Email\" if sending to students\n",
        "        sub = \"Test Email from Colab\",\n",
        "        body = email_body\n",
        "    )\n",
        "\n",
        "    if success:\n",
        "      print(f'Email sent successfully to {student.full_name}.')\n",
        "    else:\n",
        "      print(f'Failed to send email to {student.full_name} - (Student ID: {student.ID}) - ({student.Moodle_Email})')\n",
        "\n",
        "\n",
        "# Send emails\n",
        "\n",
        "send_emails(new_subs1_emails, \"Cohort 1\")\n",
        "print()\n",
        "send_emails(new_subs2_emails, \"Cohort 2\")"
      ],
      "metadata": {
        "colab": {
          "base_uri": "https://localhost:8080/"
        },
        "id": "z5lNkKhqzlUB",
        "outputId": "5253a389-408b-411c-bbe6-46e205b1a91c"
      },
      "execution_count": 10,
      "outputs": [
        {
          "output_type": "stream",
          "name": "stdout",
          "text": [
            "=== Sending emails to Cohort 1 students ===\n",
            "\n",
            "Sending email to Student: Piet Pompies - (Student ID: 1) - (piet@email.com)\n",
            "\n",
            "Your application was successful, and you've been registered as part of Cohort 1.\n",
            "Email sent successfully!\n",
            "Email sent successfully to Piet Pompies.\n",
            "\n",
            "Sending email to Student: Jan Pampoen - (Student ID: 2) - (jan@email.com)\n",
            "\n",
            "Your application was successful, and you've been registered as part of Cohort 1.\n",
            "Email sent successfully!\n",
            "Email sent successfully to Jan Pampoen.\n",
            "\n",
            "Sending email to Student: Koos Kakebeen - (Student ID: 3) - (koos@email.com)\n",
            "\n",
            "Your application was successful, and you've been registered as part of Cohort 1.\n",
            "Email sent successfully!\n",
            "Email sent successfully to Koos Kakebeen.\n",
            "\n",
            "Sending email to Student: Peter Pumpkineater - (Student ID: 4) - (peter@email.com)\n",
            "\n",
            "Your application was successful, and you've been registered as part of Cohort 1.\n",
            "Email sent successfully!\n",
            "Email sent successfully to Peter Pumpkineater.\n",
            "\n",
            "Sending email to Student: Pieter de Coning - (Student ID: 5) - (pieteremail.com)\n",
            "\n",
            "Your application was successful, and you've been registered as part of Cohort 1.\n",
            "Email sent successfully!\n",
            "Email sent successfully to Pieter de Coning.\n",
            "\n",
            "Sending email to Student: Anna Marsh - (Student ID: 10) - (turnerstephanie@example.com)\n",
            "\n",
            "Your application was successful, and you've been registered as part of Cohort 1.\n",
            "Email sent successfully!\n",
            "Email sent successfully to Anna Marsh.\n",
            "\n",
            "Sending email to Student: William Edwards - (Student ID: 11) - (patrick79@example.com)\n",
            "\n",
            "Your application was successful, and you've been registered as part of Cohort 1.\n",
            "Email sent successfully!\n",
            "Email sent successfully to William Edwards.\n",
            "\n",
            "Sending email to Student: Thomas Dixon - (Student ID: 12) - (usims@example.net)\n",
            "\n",
            "Your application was successful, and you've been registered as part of Cohort 1.\n",
            "Email sent successfully!\n",
            "Email sent successfully to Thomas Dixon.\n",
            "\n",
            "Sending email to Student: Jonathan Morton - (Student ID: 13) - (deborahcuevas@example.net)\n",
            "\n",
            "Your application was successful, and you've been registered as part of Cohort 1.\n",
            "Email sent successfully!\n",
            "Email sent successfully to Jonathan Morton.\n",
            "\n",
            "Sending email to Student: Russell Frederick - (Student ID: 14) - (markbutler@example.org)\n",
            "\n",
            "Your application was successful, and you've been registered as part of Cohort 1.\n",
            "Email sent successfully!\n",
            "Email sent successfully to Russell Frederick.\n",
            "\n",
            "Sending email to Student: John Bowman - (Student ID: 15) - (samanthabrown@example.net)\n",
            "\n",
            "Your application was successful, and you've been registered as part of Cohort 1.\n",
            "Email sent successfully!\n",
            "Email sent successfully to John Bowman.\n",
            "\n",
            "Sending email to Student: Alyssa White - (Student ID: 16) - (millerdouglas@example.org)\n",
            "\n",
            "Your application was successful, and you've been registered as part of Cohort 1.\n",
            "Email sent successfully!\n",
            "Email sent successfully to Alyssa White.\n",
            "\n",
            "Sending email to Student: Katrina Cook - (Student ID: 17) - (leemary@example.com)\n",
            "\n",
            "Your application was successful, and you've been registered as part of Cohort 1.\n",
            "Email sent successfully!\n",
            "Email sent successfully to Katrina Cook.\n",
            "\n",
            "Sending email to Student: Gert Coetzee - (Student ID: 6) - (gert@google.com)\n",
            "\n",
            "Your application was successful, and you've been registered as part of Cohort 1.\n",
            "Email sent successfully!\n",
            "Email sent successfully to Gert Coetzee.\n",
            "\n",
            "Sending email to Student: Jan Pierewiet - (Student ID: 7) - (JanP@outlook.com)\n",
            "\n",
            "Your application was successful, and you've been registered as part of Cohort 1.\n",
            "Email sent successfully!\n",
            "Email sent successfully to Jan Pierewiet.\n",
            "\n",
            "Sending email to Student: Amy Tran - (Student ID: 9) - (gpacheco@example.net)\n",
            "\n",
            "Your application was successful, and you've been registered as part of Cohort 1.\n",
            "Email sent successfully!\n",
            "Email sent successfully to Amy Tran.\n",
            "\n",
            "=== Sending emails to Cohort 2 students ===\n",
            "\n",
            "Sending email to Student: Mike Hassett - (Student ID: 1) - (mike@mail.com)\n",
            "\n",
            "Your application was successful, and you've been registered as part of Cohort 2.\n",
            "Email sent successfully!\n",
            "Email sent successfully to Mike Hassett.\n",
            "\n",
            "Sending email to Student: Ben Burger - (Student ID: 2) - (ben@gmail.com)\n",
            "\n",
            "Your application was successful, and you've been registered as part of Cohort 2.\n",
            "Email sent successfully!\n",
            "Email sent successfully to Ben Burger.\n",
            "\n",
            "Sending email to Student: Clive Greenwood - (Student ID: 3) - (clive@trustytransport.co.za)\n",
            "\n",
            "Your application was successful, and you've been registered as part of Cohort 2.\n",
            "Email sent successfully!\n",
            "Email sent successfully to Clive Greenwood.\n",
            "\n",
            "Sending email to Student: Coolhand Luke - (Student ID: 4) - (coolhand@yahoo.com)\n",
            "\n",
            "Your application was successful, and you've been registered as part of Cohort 2.\n",
            "Email sent successfully!\n",
            "Email sent successfully to Coolhand Luke.\n",
            "\n",
            "Sending email to Student: Steph Rossouw - (Student ID: 5) - (steph@windhoek.co.na)\n",
            "\n",
            "Your application was successful, and you've been registered as part of Cohort 2.\n",
            "Email sent successfully!\n",
            "Email sent successfully to Steph Rossouw.\n",
            "\n",
            "Sending email to Student: Sierra Johnson - (Student ID: 10) - (connor11@example.com)\n",
            "\n",
            "Your application was successful, and you've been registered as part of Cohort 2.\n",
            "Email sent successfully!\n",
            "Email sent successfully to Sierra Johnson.\n",
            "\n",
            "Sending email to Student: Kimberly Brown - (Student ID: 11) - (sabrina37@example.com)\n",
            "\n",
            "Your application was successful, and you've been registered as part of Cohort 2.\n",
            "Email sent successfully!\n",
            "Email sent successfully to Kimberly Brown.\n",
            "\n",
            "Sending email to Student: Eric Hogan - (Student ID: 12) - (dana48@example.org)\n",
            "\n",
            "Your application was successful, and you've been registered as part of Cohort 2.\n",
            "Email sent successfully!\n",
            "Email sent successfully to Eric Hogan.\n",
            "\n",
            "Sending email to Student: Tammy Davis - (Student ID: 13) - (kevin77@example.org)\n",
            "\n",
            "Your application was successful, and you've been registered as part of Cohort 2.\n",
            "Email sent successfully!\n",
            "Email sent successfully to Tammy Davis.\n",
            "\n",
            "Sending email to Student: Carolyn Nguyen - (Student ID: 14) - (thomasjoseph@example.com)\n",
            "\n",
            "Your application was successful, and you've been registered as part of Cohort 2.\n",
            "Email sent successfully!\n",
            "Email sent successfully to Carolyn Nguyen.\n",
            "\n",
            "Sending email to Student: Kyle Barber - (Student ID: 15) - (owalker@example.org)\n",
            "\n",
            "Your application was successful, and you've been registered as part of Cohort 2.\n",
            "Email sent successfully!\n",
            "Email sent successfully to Kyle Barber.\n",
            "\n",
            "Sending email to Student: Karen Woods - (Student ID: 16) - (mckayangela@example.com)\n",
            "\n",
            "Your application was successful, and you've been registered as part of Cohort 2.\n",
            "Email sent successfully!\n",
            "Email sent successfully to Karen Woods.\n",
            "\n",
            "Sending email to Student: Matthew Rangel - (Student ID: 17) - (wknight@example.net)\n",
            "\n",
            "Your application was successful, and you've been registered as part of Cohort 2.\n",
            "Email sent successfully!\n",
            "Email sent successfully to Matthew Rangel.\n",
            "\n",
            "Sending email to Student: Stephanie Johnston - (Student ID: 18) - (hdowns@example.net)\n",
            "\n",
            "Your application was successful, and you've been registered as part of Cohort 2.\n",
            "Email sent successfully!\n",
            "Email sent successfully to Stephanie Johnston.\n",
            "\n",
            "Sending email to Student: Gloria Johnson - (Student ID: 19) - (andrewcastillo@example.org)\n",
            "\n",
            "Your application was successful, and you've been registered as part of Cohort 2.\n",
            "Email sent successfully!\n",
            "Email sent successfully to Gloria Johnson.\n",
            "\n",
            "Sending email to Student: Blake Turner - (Student ID: 8) - (thompsonpeter@example.org)\n",
            "\n",
            "Your application was successful, and you've been registered as part of Cohort 2.\n",
            "Email sent successfully!\n",
            "Email sent successfully to Blake Turner.\n"
          ]
        }
      ]
    },
    {
      "cell_type": "markdown",
      "source": [
        "**Sending Email to Code Division:**"
      ],
      "metadata": {
        "id": "6VPZ1IQrGpEE"
      }
    },
    {
      "cell_type": "code",
      "source": [
        "# Prepare email body as a string\n",
        "body_lines = []\n",
        "\n",
        "body_lines.append(f'\\n{len(new_subs1_emails)} Students registered as part of Cohort 1 (EnrolmentForm1.xlsx):')\n",
        "for student in new_subs1_emails:\n",
        "    body_lines.append(f'{student.full_name} - ({student.Moodle_Email})')\n",
        "\n",
        "body_lines.append(f'\\n{len(new_subs2_emails)} Students registered as part of Cohort 2 (EnrolmentForm2.xlsx):')\n",
        "for student in new_subs2_emails:\n",
        "    body_lines.append(f'{student.full_name} - ({student.Moodle_Email})')\n",
        "\n",
        "email_body = '\\n'.join(body_lines)\n",
        "\n",
        "# Sending the Email\n",
        "success = send(\n",
        "    sender = email,\n",
        "    app_pass = pw,\n",
        "    recip = \"eugene@anysupport.co.uk\",\n",
        "    sub = \"Test Email from Colab\",\n",
        "    body = email_body\n",
        ")\n",
        "\n",
        "print(email_body)"
      ],
      "metadata": {
        "id": "ILe8hocqGtAw",
        "colab": {
          "base_uri": "https://localhost:8080/"
        },
        "outputId": "e4f0cec5-c8fa-47d6-de87-efc675ae2c80"
      },
      "execution_count": 11,
      "outputs": [
        {
          "output_type": "stream",
          "name": "stdout",
          "text": [
            "Email sent successfully!\n",
            "\n",
            "16 Students registered as part of Cohort 1 (EnrolmentForm1.xlsx):\n",
            "Piet Pompies - (piet@email.com)\n",
            "Jan Pampoen - (jan@email.com)\n",
            "Koos Kakebeen - (koos@email.com)\n",
            "Peter Pumpkineater - (peter@email.com)\n",
            "Pieter de Coning - (pieteremail.com)\n",
            "Anna Marsh - (turnerstephanie@example.com)\n",
            "William Edwards - (patrick79@example.com)\n",
            "Thomas Dixon - (usims@example.net)\n",
            "Jonathan Morton - (deborahcuevas@example.net)\n",
            "Russell Frederick - (markbutler@example.org)\n",
            "John Bowman - (samanthabrown@example.net)\n",
            "Alyssa White - (millerdouglas@example.org)\n",
            "Katrina Cook - (leemary@example.com)\n",
            "Gert Coetzee - (gert@google.com)\n",
            "Jan Pierewiet - (JanP@outlook.com)\n",
            "Amy Tran - (gpacheco@example.net)\n",
            "\n",
            "16 Students registered as part of Cohort 2 (EnrolmentForm2.xlsx):\n",
            "Mike Hassett - (mike@mail.com)\n",
            "Ben Burger - (ben@gmail.com)\n",
            "Clive Greenwood - (clive@trustytransport.co.za)\n",
            "Coolhand Luke - (coolhand@yahoo.com)\n",
            "Steph Rossouw - (steph@windhoek.co.na)\n",
            "Sierra Johnson - (connor11@example.com)\n",
            "Kimberly Brown - (sabrina37@example.com)\n",
            "Eric Hogan - (dana48@example.org)\n",
            "Tammy Davis - (kevin77@example.org)\n",
            "Carolyn Nguyen - (thomasjoseph@example.com)\n",
            "Kyle Barber - (owalker@example.org)\n",
            "Karen Woods - (mckayangela@example.com)\n",
            "Matthew Rangel - (wknight@example.net)\n",
            "Stephanie Johnston - (hdowns@example.net)\n",
            "Gloria Johnson - (andrewcastillo@example.org)\n",
            "Blake Turner - (thompsonpeter@example.org)\n"
          ]
        }
      ]
    },
    {
      "cell_type": "markdown",
      "source": [
        "**Download Form Data (from Ms Forms)**"
      ],
      "metadata": {
        "id": "jmDGkJgyYZ7f"
      }
    },
    {
      "cell_type": "code",
      "source": [
        "# Download Form Data from Ms Forms\n",
        "import requests\n",
        "url = \"https://1drv.ms/x/c/e4158dc5676393d7/ESPx1tZ7o_5JhRnl7Td6ZqEBesJbQRqvROVvqF6n6BsJPQ?e=eftYDA\"\n",
        "download_url = url + \"&download=1\"\n",
        "\n",
        "response = requests.get(download_url)\n",
        "\n",
        "if response.status_code == 200:\n",
        "    with open(\"EnrolmentForm1.xlsx\", \"wb\") as file:\n",
        "        file.write(response.content)\n",
        "    print(\"File downloaded successfully.\")\n",
        "else:\n",
        "    print(\"Failed to download the file. \\nStatus Code: \", response.status.code)"
      ],
      "metadata": {
        "id": "XNcglxI3X7-F",
        "colab": {
          "base_uri": "https://localhost:8080/"
        },
        "outputId": "465d90ee-b315-4711-973a-048bfa489c1c"
      },
      "execution_count": 12,
      "outputs": [
        {
          "output_type": "stream",
          "name": "stdout",
          "text": [
            "File downloaded successfully.\n"
          ]
        }
      ]
    },
    {
      "cell_type": "markdown",
      "source": [
        "**Download Form Data (from Google Sheets)**"
      ],
      "metadata": {
        "id": "qFq2il7xabKq"
      }
    },
    {
      "cell_type": "code",
      "source": [
        "# Download multiple Google Sheets as Excel files\n",
        "import requests\n",
        "\n",
        "# List of Google Sheet URLs\n",
        "sheet_urls = [\n",
        "  \"https://docs.google.com/spreadsheets/d/10K-bu0Frhz8Tq-AZGz2qMzAKHmPJRRWA/edit?usp=sharing&ouid=100753018469932098961&rtpof=true&sd=true\",\n",
        "  \"https://docs.google.com/spreadsheets/d/13hs27Z1eGH1Mx5zATWwyAu61kIhFNS17/edit?usp=sharing&ouid=100753018469932098961&rtpof=true&sd=true\"\n",
        "]\n",
        "\n",
        "for i, url in enumerate(sheet_urls, start=1):\n",
        "  # Extract the file ID from the URL\n",
        "  file_id = url.split(\"/d/\")[1].split(\"/\")[0]\n",
        "  download_url = f\"https://docs.google.com/spreadsheets/d/{file_id}/export?format=xlsx\"\n",
        "\n",
        "# Download the file\n",
        "  response = requests.get(download_url)\n",
        "  if response.status_code == 200:\n",
        "    file_name = f\"GoogleSheetEnrolmentForm{i}.xlsx\"\n",
        "    with open(file_name, \"wb\") as file:\n",
        "        file.write(response.content)\n",
        "    print(f\"File {i} downloaded successfully as {file_name}.\")\n",
        "  else:\n",
        "    print(f\"Failed to download file {i}. \\nStatus Code: {response.status_code}\")\n",
        "\n"
      ],
      "metadata": {
        "id": "oeg8k-WqacO1",
        "colab": {
          "base_uri": "https://localhost:8080/"
        },
        "outputId": "ab1f39f9-fb2a-4582-cbbd-2c5136e23619"
      },
      "execution_count": 13,
      "outputs": [
        {
          "output_type": "stream",
          "name": "stdout",
          "text": [
            "File 1 downloaded successfully as GoogleSheetEnrolmentForm1.xlsx.\n",
            "File 2 downloaded successfully as GoogleSheetEnrolmentForm2.xlsx.\n"
          ]
        }
      ]
    }
  ]
}