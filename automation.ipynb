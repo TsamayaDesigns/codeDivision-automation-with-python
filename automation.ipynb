{
  "nbformat": 4,
  "nbformat_minor": 0,
  "metadata": {
    "colab": {
      "provenance": [],
      "include_colab_link": true
    },
    "kernelspec": {
      "name": "python3",
      "display_name": "Python 3"
    },
    "language_info": {
      "name": "python"
    }
  },
  "cells": [
    {
      "cell_type": "markdown",
      "metadata": {
        "id": "view-in-github",
        "colab_type": "text"
      },
      "source": [
        "<a href=\"https://colab.research.google.com/github/TsamayaDesigns/codeDivision-automation-with-python/blob/main/automation.ipynb\" target=\"_parent\"><img src=\"https://colab.research.google.com/assets/colab-badge.svg\" alt=\"Open In Colab\"/></a>"
      ]
    },
    {
      "cell_type": "markdown",
      "source": [
        "**Mount Google Drive & Set Working Directory:**"
      ],
      "metadata": {
        "id": "fC_mjGsHkskR"
      }
    },
    {
      "cell_type": "code",
      "source": [
        "# 1️⃣ Mount Google Drive\n",
        "from google.colab import drive\n",
        "drive.mount('/content/drive/')\n",
        "\n",
        "# 2️⃣ Set Working Directory\n",
        "import os\n",
        "working_dir = '/content/drive/MyDrive/codeDivision'\n",
        "os.makedirs(working_dir, exist_ok=True)\n",
        "os.chdir(working_dir)\n",
        "\n",
        "# 3️⃣ Confirm Current Working Directory\n",
        "print(f\"Current working directory is: {os.getcwd()}\")"
      ],
      "metadata": {
        "colab": {
          "base_uri": "https://localhost:8080/"
        },
        "id": "5obh37fuga35",
        "outputId": "48f95433-4edf-4ec9-e495-15b434f22007"
      },
      "execution_count": 3,
      "outputs": [
        {
          "output_type": "stream",
          "name": "stdout",
          "text": [
            "Mounted at /content/drive/\n",
            "Current working directory is: /content/drive/MyDrive/codeDivision\n"
          ]
        }
      ]
    },
    {
      "cell_type": "markdown",
      "source": [
        "**Query the Data:**"
      ],
      "metadata": {
        "id": "_yUpcaBZJOMd"
      }
    },
    {
      "cell_type": "code",
      "execution_count": 32,
      "metadata": {
        "colab": {
          "base_uri": "https://localhost:8080/"
        },
        "id": "i0UHOHvbZWYN",
        "outputId": "ff16fad8-3461-4dbf-cbbc-393872c1baaf"
      },
      "outputs": [
        {
          "output_type": "stream",
          "name": "stdout",
          "text": [
            "[Row(ID=1, Start_time=datetime.datetime(2025, 7, 17, 17, 36, 32), Completion_time=datetime.datetime(2025, 7, 17, 17, 37, 33), User_Email='anonymous', Name=None, Last_modified_time=None, full_name='Piet Pompies', Need_365='Yes', Mac_or_PC='Option 1', Moodle_Email='piet@email.com', Attending='Yes', Alternative='NA', Council='Perth', Postcode='PH1', NeuroDivergent='No', Woman='No', Minority='No', Disabled='Yes', Refugee='No'), Row(ID=2, Start_time=datetime.datetime(2025, 7, 17, 17, 38, 34), Completion_time=datetime.datetime(2025, 7, 17, 17, 39, 15), User_Email='anonymous', Name=None, Last_modified_time=None, full_name='Jan Pampoen', Need_365='No', Mac_or_PC='Option 2', Moodle_Email='jan@email.com', Attending='No', Alternative='NA', Council='Dundee', Postcode='DD1', NeuroDivergent='Yes', Woman='Yes', Minority='Yes', Disabled='No', Refugee='Yes'), Row(ID=3, Start_time=datetime.datetime(2025, 7, 17, 18, 13, 48), Completion_time=datetime.datetime(2025, 7, 17, 18, 14, 51), User_Email='anonymous', Name=None, Last_modified_time=None, full_name='Koos Kakebeen', Need_365='Yes', Mac_or_PC='Mac', Moodle_Email='koos@email.com', Attending='No', Alternative='Help', Council='West Lothian', Postcode='EH1', NeuroDivergent='No', Woman='Yes', Minority='No', Disabled='Yes', Refugee='Yes'), Row(ID=4, Start_time=datetime.datetime(2025, 7, 17, 18, 15, 18), Completion_time=datetime.datetime(2025, 7, 17, 18, 16, 15), User_Email='anonymous', Name=None, Last_modified_time=None, full_name='Peter Pumpkineater', Need_365='No', Mac_or_PC='PC', Moodle_Email='peter@email.com', Attending='Yes', Alternative='21/09/2025', Council='Dundee', Postcode='DD2', NeuroDivergent='No', Woman='No', Minority='No', Disabled='Yes', Refugee='No'), Row(ID=5, Start_time=datetime.datetime(2025, 7, 19, 12, 4, 52), Completion_time=datetime.datetime(2025, 7, 19, 12, 6, 43), User_Email='anonymous', Name=None, Last_modified_time=None, full_name='Pieter de Coning', Need_365='Yes', Mac_or_PC='PC', Moodle_Email='pieteremail.com', Attending='No', Alternative='5/10/2025', Council='Perth & Kinross', Postcode='PH2', NeuroDivergent='No', Woman='Yes', Minority='No', Disabled='Yes', Refugee='Yes'), Row(ID=6, Start_time=datetime.datetime(2025, 7, 22, 18, 51, 7), Completion_time=datetime.datetime(2025, 7, 22, 18, 52, 25), User_Email='anonymous', Name=None, Last_modified_time=None, full_name='Gert Coetzee', Need_365='No', Mac_or_PC='PC', Moodle_Email='gert@google.com', Attending='Yes', Alternative='04/09/2025', Council='Edinburgh', Postcode='EH1', NeuroDivergent='No', Woman='No', Minority='No', Disabled='No', Refugee='No'), Row(ID=7, Start_time=datetime.datetime(2025, 7, 22, 19, 0, 50), Completion_time=datetime.datetime(2025, 7, 22, 19, 2, 2), User_Email='anonymous', Name=None, Last_modified_time=None, full_name='Jan Pierewiet', Need_365='Yes', Mac_or_PC='PC', Moodle_Email='JanP@outlook.com', Attending='Yes', Alternative='04/09/2025', Council='West Lothian', Postcode='EH5', NeuroDivergent='No', Woman='No', Minority='No', Disabled='Yes', Refugee='Yes')]\n",
            "[Row(ID=1, Start_time=datetime.datetime(2025, 7, 17, 17, 36, 32), Completion_time=datetime.datetime(2025, 7, 17, 17, 37, 33), User_Email='anonymous', Name=None, Last_modified_time=None, full_name='Piet Pompies', Need_365='Yes', Mac_or_PC='Option 1', Moodle_Email='piet@email.com', Attending='Yes', Alternative='NA', Council='Perth', Postcode='PH1', NeuroDivergent='No', Woman='No', Minority='No', Disabled='Yes', Refugee='No'), Row(ID=4, Start_time=datetime.datetime(2025, 7, 17, 18, 15, 18), Completion_time=datetime.datetime(2025, 7, 17, 18, 16, 15), User_Email='anonymous', Name=None, Last_modified_time=None, full_name='Peter Pumpkineater', Need_365='No', Mac_or_PC='PC', Moodle_Email='peter@email.com', Attending='Yes', Alternative='21/09/2025', Council='Dundee', Postcode='DD2', NeuroDivergent='No', Woman='No', Minority='No', Disabled='Yes', Refugee='No'), Row(ID=6, Start_time=datetime.datetime(2025, 7, 22, 18, 51, 7), Completion_time=datetime.datetime(2025, 7, 22, 18, 52, 25), User_Email='anonymous', Name=None, Last_modified_time=None, full_name='Gert Coetzee', Need_365='No', Mac_or_PC='PC', Moodle_Email='gert@google.com', Attending='Yes', Alternative='04/09/2025', Council='Edinburgh', Postcode='EH1', NeuroDivergent='No', Woman='No', Minority='No', Disabled='No', Refugee='No'), Row(ID=7, Start_time=datetime.datetime(2025, 7, 22, 19, 0, 50), Completion_time=datetime.datetime(2025, 7, 22, 19, 2, 2), User_Email='anonymous', Name=None, Last_modified_time=None, full_name='Jan Pierewiet', Need_365='Yes', Mac_or_PC='PC', Moodle_Email='JanP@outlook.com', Attending='Yes', Alternative='04/09/2025', Council='West Lothian', Postcode='EH5', NeuroDivergent='No', Woman='No', Minority='No', Disabled='Yes', Refugee='Yes')]\n",
            "[Row(ID=2, Start_time=datetime.datetime(2025, 7, 17, 17, 38, 34), Completion_time=datetime.datetime(2025, 7, 17, 17, 39, 15), User_Email='anonymous', Name=None, Last_modified_time=None, full_name='Jan Pampoen', Need_365='No', Mac_or_PC='Option 2', Moodle_Email='jan@email.com', Attending='No', Alternative='NA', Council='Dundee', Postcode='DD1', NeuroDivergent='Yes', Woman='Yes', Minority='Yes', Disabled='No', Refugee='Yes'), Row(ID=3, Start_time=datetime.datetime(2025, 7, 17, 18, 13, 48), Completion_time=datetime.datetime(2025, 7, 17, 18, 14, 51), User_Email='anonymous', Name=None, Last_modified_time=None, full_name='Koos Kakebeen', Need_365='Yes', Mac_or_PC='Mac', Moodle_Email='koos@email.com', Attending='No', Alternative='Help', Council='West Lothian', Postcode='EH1', NeuroDivergent='No', Woman='Yes', Minority='No', Disabled='Yes', Refugee='Yes'), Row(ID=5, Start_time=datetime.datetime(2025, 7, 19, 12, 4, 52), Completion_time=datetime.datetime(2025, 7, 19, 12, 6, 43), User_Email='anonymous', Name=None, Last_modified_time=None, full_name='Pieter de Coning', Need_365='Yes', Mac_or_PC='PC', Moodle_Email='pieteremail.com', Attending='No', Alternative='5/10/2025', Council='Perth & Kinross', Postcode='PH2', NeuroDivergent='No', Woman='Yes', Minority='No', Disabled='Yes', Refugee='Yes')]\n"
          ]
        }
      ],
      "source": [
        "import re\n",
        "from excel_tools import read_sheet\n",
        "fields = ['ID', 'Start_time', 'Completion_time', 'User_Email', 'Name', 'Last_modified_time', 'full_name', 'Need_365', 'Mac_or_PC', 'Moodle_Email', 'Attending', 'Alternative', 'Council', 'Postcode', 'NeuroDivergent', 'Woman', 'Minority', 'Disabled', 'Refugee']\n",
        "subs = read_sheet('EnrolmentForm1.xlsx', fields = fields)\n",
        "print(subs)\n",
        "\n",
        "# Check if person is attending\n",
        "has_y = []\n",
        "has_n = []\n",
        "\n",
        "for sub in subs:\n",
        "    if sub.Attending == 'Yes' or sub.Attending == 'yes' or sub.Attending == 'Y' or sub.Attending == 'y':\n",
        "        has_y.append(sub)\n",
        "    else:\n",
        "        has_n.append(sub)\n",
        "\n",
        "print(has_y)\n",
        "print(has_n)"
      ]
    },
    {
      "cell_type": "markdown",
      "source": [
        "**Email address validation:**"
      ],
      "metadata": {
        "id": "GbPp2z7_U9q9"
      }
    },
    {
      "cell_type": "code",
      "source": [
        "# Check if email address is valid\n",
        "EMAIL_REGEX = re.compile(\n",
        "    r\"^[a-zA-Z0-9_.+-]+@[a-zA-Z0-9-]+\\.[a-zA-Z0-9-.]+$\"\n",
        ")\n",
        "\n",
        "def validate_emails(User_Email, Moodle_Email):\n",
        "  valid_emails = []\n",
        "  invalid_emails = []\n",
        "\n",
        "  if not EMAIL_REGEX.match(User_Email):\n",
        "    invalid_emails.append(f'User_Email: {User_Email}')\n",
        "  else:\n",
        "    valid_emails.append(f'User_Email: {User_Email}')\n",
        "\n",
        "  if not EMAIL_REGEX.match(Moodle_Email):\n",
        "    invalid_emails.append(f'Moodle_Email: {Moodle_Email}')\n",
        "  else:\n",
        "    valid_emails.append(f'Moodle_Email: {Moodle_Email}')\n",
        "\n",
        "  return invalid_emails, valid_emails\n",
        "\n",
        "\n",
        "for sub in subs:\n",
        "    invalid_emails, valid_emails = validate_emails(sub.User_Email, sub.Moodle_Email)\n",
        "\n",
        "    if invalid_emails:\n",
        "        print(sub.full_name, 'has invalid email(s):', invalid_emails)\n",
        "\n",
        "    if valid_emails:\n",
        "        print(sub.full_name, 'has valid email(s):', valid_emails)\n",
        "\n",
        "    print()\n",
        ""
      ],
      "metadata": {
        "colab": {
          "base_uri": "https://localhost:8080/"
        },
        "id": "kysH6j0PU1Sy",
        "outputId": "11fc7929-8db9-46dd-8158-ee93d7c4ee54"
      },
      "execution_count": 33,
      "outputs": [
        {
          "output_type": "stream",
          "name": "stdout",
          "text": [
            "Piet Pompies has invalid email(s): ['User_Email: anonymous']\n",
            "Piet Pompies has valid email(s): ['Moodle_Email: piet@email.com']\n",
            "\n",
            "Jan Pampoen has invalid email(s): ['User_Email: anonymous']\n",
            "Jan Pampoen has valid email(s): ['Moodle_Email: jan@email.com']\n",
            "\n",
            "Koos Kakebeen has invalid email(s): ['User_Email: anonymous']\n",
            "Koos Kakebeen has valid email(s): ['Moodle_Email: koos@email.com']\n",
            "\n",
            "Peter Pumpkineater has invalid email(s): ['User_Email: anonymous']\n",
            "Peter Pumpkineater has valid email(s): ['Moodle_Email: peter@email.com']\n",
            "\n",
            "Pieter de Coning has invalid email(s): ['User_Email: anonymous', 'Moodle_Email: pieteremail.com']\n",
            "\n",
            "Gert Coetzee has invalid email(s): ['User_Email: anonymous']\n",
            "Gert Coetzee has valid email(s): ['Moodle_Email: gert@google.com']\n",
            "\n",
            "Jan Pierewiet has invalid email(s): ['User_Email: anonymous']\n",
            "Jan Pierewiet has valid email(s): ['Moodle_Email: JanP@outlook.com']\n",
            "\n"
          ]
        }
      ]
    }
  ]
}