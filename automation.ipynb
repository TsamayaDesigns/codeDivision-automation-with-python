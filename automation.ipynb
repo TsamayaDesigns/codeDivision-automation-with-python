{
  "nbformat": 4,
  "nbformat_minor": 0,
  "metadata": {
    "colab": {
      "provenance": [],
      "include_colab_link": true
    },
    "kernelspec": {
      "name": "python3",
      "display_name": "Python 3"
    },
    "language_info": {
      "name": "python"
    }
  },
  "cells": [
    {
      "cell_type": "markdown",
      "metadata": {
        "id": "view-in-github",
        "colab_type": "text"
      },
      "source": [
        "<a href=\"https://colab.research.google.com/github/TsamayaDesigns/codeDivision-automation-with-python/blob/main/automation.ipynb\" target=\"_parent\"><img src=\"https://colab.research.google.com/assets/colab-badge.svg\" alt=\"Open In Colab\"/></a>"
      ]
    },
    {
      "cell_type": "markdown",
      "source": [
        "**Mount Google Drive & Set Working Directory:**"
      ],
      "metadata": {
        "id": "fC_mjGsHkskR"
      }
    },
    {
      "cell_type": "code",
      "source": [
        "# 1️⃣ Mount Google Drive\n",
        "from google.colab import drive\n",
        "drive.mount('/content/drive/', force_remount=True)\n",
        "\n",
        "# 2️⃣ Set Working Directory\n",
        "import os\n",
        "working_dir = '/content/drive/MyDrive/codeDivision'\n",
        "os.makedirs(working_dir, exist_ok=True)\n",
        "os.chdir(working_dir)\n",
        "\n",
        "# 3️⃣ Confirm Current Working Directory\n",
        "print(f\"Current working directory is: {os.getcwd()}\")"
      ],
      "metadata": {
        "id": "5obh37fuga35",
        "colab": {
          "base_uri": "https://localhost:8080/"
        },
        "outputId": "8c9540cc-d46d-4161-9d0a-6584a9c92617"
      },
      "execution_count": 1,
      "outputs": [
        {
          "output_type": "stream",
          "name": "stdout",
          "text": [
            "Mounted at /content/drive/\n",
            "Current working directory is: /content/drive/MyDrive/codeDivision\n"
          ]
        }
      ]
    },
    {
      "cell_type": "markdown",
      "source": [
        "**Query the Data:**"
      ],
      "metadata": {
        "id": "_yUpcaBZJOMd"
      }
    },
    {
      "cell_type": "code",
      "execution_count": 26,
      "metadata": {
        "id": "i0UHOHvbZWYN"
      },
      "outputs": [],
      "source": [
        "import re\n",
        "import pandas as pd\n",
        "from smtp import send\n",
        "from datetime import datetime\n",
        "from excel_tools import read_sheet\n",
        "fields = ['ID', 'Start_time', 'Completion_time', 'User_Email', 'Name', 'Last_modified_time', 'full_name', 'Need_365', 'Mac_or_PC', 'Moodle_Email', 'Attending', 'Alternative', 'Council', 'Postcode', 'NeuroDivergent', 'Woman', 'Minority', 'Disabled', 'Refugee']\n",
        "subs1 = read_sheet('EnrolmentForm1.xlsx', fields = fields)\n",
        "subs2 = read_sheet('EnrolmentForm2.xlsx', fields = fields)\n"
      ]
    },
    {
      "cell_type": "markdown",
      "source": [
        "**Check Attendance:**"
      ],
      "metadata": {
        "id": "b-zbDhIK8vUK"
      }
    },
    {
      "cell_type": "code",
      "source": [
        "# Check if person is attending\n",
        "def attendance(subs_list):\n",
        "  attend_y = []\n",
        "  attend_n = []\n",
        "\n",
        "  for sub in subs_list:\n",
        "      if str(sub.Attending).strip().lower() in ('yes', 'y'):\n",
        "          attend_y.append(sub)\n",
        "      else:\n",
        "          attend_n.append(sub)\n",
        "\n",
        "  print(f'Attendance Yes: {len(attend_y)} \\nAttendance No: {len(attend_n)}')\n",
        "  return attend_y, attend_n\n",
        "\n",
        "attend_y1, attend_n1 = attendance(subs1)\n",
        "attend_y2, attend_n2 = attendance(subs2)\n"
      ],
      "metadata": {
        "id": "G-TRcpX_8tWv",
        "colab": {
          "base_uri": "https://localhost:8080/"
        },
        "outputId": "5125d135-da36-48c6-8707-6f77b85da397"
      },
      "execution_count": 55,
      "outputs": [
        {
          "output_type": "stream",
          "name": "stdout",
          "text": [
            "Attendance Yes: 8 \n",
            "Attendance No: 9\n",
            "Attendance Yes: 4 \n",
            "Attendance No: 5\n"
          ]
        }
      ]
    },
    {
      "cell_type": "markdown",
      "source": [
        "**Email address validation:**"
      ],
      "metadata": {
        "id": "GbPp2z7_U9q9"
      }
    },
    {
      "cell_type": "code",
      "source": [
        "# Check if email address is valid\n",
        "EMAIL_REGEX = re.compile(\n",
        "    r\"^[a-zA-Z0-9_.+-]+@[a-zA-Z0-9-]+\\.[a-zA-Z0-9-.]+$\"\n",
        ")\n",
        "\n",
        "def validate_emails(Moodle_Email):\n",
        "  valid_emails = []\n",
        "  invalid_emails = []\n",
        "\n",
        "  if not EMAIL_REGEX.match(Moodle_Email.strip()):\n",
        "    invalid_emails.append(f'Moodle_Email: {Moodle_Email.strip()}')\n",
        "  else:\n",
        "    valid_emails.append(f'Moodle_Email: {Moodle_Email.strip()}')\n",
        "\n",
        "  return invalid_emails, valid_emails\n",
        "\n",
        "\n",
        "# Print all valid emails\n",
        "def get_valid_emails(subs_list, form_name):\n",
        "  # Collect all valid emails\n",
        "  form_valid_emails = []\n",
        "\n",
        "  for sub in subs_list:\n",
        "      _, valid_emails = validate_emails(sub.Moodle_Email)\n",
        "\n",
        "      if valid_emails:\n",
        "        form_valid_emails.append((sub.full_name, sub.Moodle_Email))\n",
        "\n",
        "  print(f'Valid emails from {form_name}: {form_valid_emails}')\n",
        "  return form_valid_emails\n",
        "\n",
        "valid_emails_f1 = get_valid_emails(subs1, 'EnrolmentForm1.xlsx')\n",
        "valid_emails_f2 = get_valid_emails(subs2, 'EnrolmentForm2.xlsx')\n",
        "\n",
        "\n",
        "print()\n",
        "\n",
        "# Print email address report (for each person)\n",
        "def email_address_report(subs_list, form_name):\n",
        "  print(f'Email address report {form_name}:')\n",
        "  for sub in subs_list:\n",
        "      invalid_emails, valid_emails = validate_emails(sub.Moodle_Email)\n",
        "\n",
        "      if invalid_emails:\n",
        "          print(sub.full_name, 'has an invalid email:', invalid_emails)\n",
        "\n",
        "      if valid_emails:\n",
        "          print(sub.full_name, 'has a valid email:', valid_emails)\n",
        "\n",
        "email_address_report(subs1, '(EnrolmentForm1.xlsx)')\n",
        "print()\n",
        "email_address_report(subs2, '(EnrolmentForm2.xlsx)')"
      ],
      "metadata": {
        "id": "kysH6j0PU1Sy",
        "colab": {
          "base_uri": "https://localhost:8080/"
        },
        "outputId": "14c32226-b96e-4018-8ed8-0b277909cd60"
      },
      "execution_count": 67,
      "outputs": [
        {
          "output_type": "stream",
          "name": "stdout",
          "text": [
            "Valid emails from EnrolmentForm1.xlsx: [('Piet Pompies', 'piet@email.com'), ('Jan Pampoen', 'jan@email.com'), ('Koos Kakebeen', 'koos@email.com'), ('Peter Pumpkineater', 'peter@email.com'), ('Gert Coetzee', 'gert@google.com'), ('Jan Pierewiet', 'JanP@outlook.com'), ('Blake Turner', 'thompsonpeter@example.org'), ('Amy Tran', 'gpacheco@example.net'), ('Anna Marsh', 'turnerstephanie@example.com'), ('William Edwards', 'patrick79@example.com'), ('Thomas Dixon', 'usims@example.net'), ('Jonathan Morton', 'deborahcuevas@example.net'), ('Russell Frederick', 'markbutler@example.org'), ('John Bowman', 'samanthabrown@example.net'), ('Alyssa White', 'millerdouglas@example.org'), ('Katrina Cook', 'leemary@example.com')]\n",
            "Valid emails from EnrolmentForm2.xlsx: [('Mike Hassett', 'mike@mail.com'), ('Ben Burger', 'ben@gmail.com'), ('Clive Greenwood', 'clive@trustytransport.co.za'), ('Coolhand Luke', 'coolhand@yahoo.com'), ('Steph Rossouw', 'steph@windhoek.co.na'), ('Gert Coetzee', 'gert@google.com'), ('Jan Pierewiet', 'JanP@outlook.com'), ('Blake Turner', 'thompsonpeter@example.org'), ('Amy Tran', 'gpacheco@example.net')]\n",
            "\n",
            "Email address report (EnrolmentForm1.xlsx):\n",
            "Piet Pompies has a valid email: ['Moodle_Email: piet@email.com']\n",
            "Jan Pampoen has a valid email: ['Moodle_Email: jan@email.com']\n",
            "Koos Kakebeen has a valid email: ['Moodle_Email: koos@email.com']\n",
            "Peter Pumpkineater has a valid email: ['Moodle_Email: peter@email.com']\n",
            "Pieter de Coning has an invalid email: ['Moodle_Email: pieteremail.com']\n",
            "Gert Coetzee has a valid email: ['Moodle_Email: gert@google.com']\n",
            "Jan Pierewiet has a valid email: ['Moodle_Email: JanP@outlook.com']\n",
            "Blake Turner has a valid email: ['Moodle_Email: thompsonpeter@example.org']\n",
            "Amy Tran has a valid email: ['Moodle_Email: gpacheco@example.net']\n",
            "Anna Marsh has a valid email: ['Moodle_Email: turnerstephanie@example.com']\n",
            "William Edwards has a valid email: ['Moodle_Email: patrick79@example.com']\n",
            "Thomas Dixon has a valid email: ['Moodle_Email: usims@example.net']\n",
            "Jonathan Morton has a valid email: ['Moodle_Email: deborahcuevas@example.net']\n",
            "Russell Frederick has a valid email: ['Moodle_Email: markbutler@example.org']\n",
            "John Bowman has a valid email: ['Moodle_Email: samanthabrown@example.net']\n",
            "Alyssa White has a valid email: ['Moodle_Email: millerdouglas@example.org']\n",
            "Katrina Cook has a valid email: ['Moodle_Email: leemary@example.com']\n",
            "\n",
            "Email address report (EnrolmentForm2.xlsx):\n",
            "Mike Hassett has a valid email: ['Moodle_Email: mike@mail.com']\n",
            "Ben Burger has a valid email: ['Moodle_Email: ben@gmail.com']\n",
            "Clive Greenwood has a valid email: ['Moodle_Email: clive@trustytransport.co.za']\n",
            "Coolhand Luke has a valid email: ['Moodle_Email: coolhand@yahoo.com']\n",
            "Steph Rossouw has a valid email: ['Moodle_Email: steph@windhoek.co.na']\n",
            "Gert Coetzee has a valid email: ['Moodle_Email: gert@google.com']\n",
            "Jan Pierewiet has a valid email: ['Moodle_Email: JanP@outlook.com']\n",
            "Blake Turner has a valid email: ['Moodle_Email: thompsonpeter@example.org']\n",
            "Amy Tran has a valid email: ['Moodle_Email: gpacheco@example.net']\n"
          ]
        }
      ]
    },
    {
      "cell_type": "markdown",
      "source": [
        "**Office 365 Requirements:**"
      ],
      "metadata": {
        "id": "HTp3yduR8LZI"
      }
    },
    {
      "cell_type": "code",
      "source": [
        "# Establish Office 365 requirements\n",
        "o365_y = []\n",
        "o365_n = []\n",
        "\n",
        "for sub in subs:\n",
        "    if sub.Need_365 == 'Yes' or sub.Need_365 == 'yes' or sub.Need_365 == 'Y' or sub.Need_365 == 'y':\n",
        "        o365_y.append(sub)\n",
        "    else:\n",
        "        o365_n.append(sub)\n",
        "\n",
        "print(f'Require 365 - Yes: {len(o365_y)} \\nRequire 365 - No: {len(o365_n)}')"
      ],
      "metadata": {
        "id": "nrrh9S4x980P",
        "colab": {
          "base_uri": "https://localhost:8080/"
        },
        "outputId": "0a9c5d86-1760-48c1-9526-f974f5377805"
      },
      "execution_count": 68,
      "outputs": [
        {
          "output_type": "stream",
          "name": "stdout",
          "text": [
            "Require 365 - Yes: 7 \n",
            "Require 365 - No: 10\n"
          ]
        }
      ]
    },
    {
      "cell_type": "markdown",
      "source": [
        "**Available Dates:**"
      ],
      "metadata": {
        "id": "KEe6SqCsfIvr"
      }
    },
    {
      "cell_type": "code",
      "source": [
        "# Check alternative dates for people unable attend\n",
        "\n",
        "for sub in subs:\n",
        "  if sub.Attending.strip().lower() in ['no', 'n']:\n",
        "    try:\n",
        "      date_str = sub.Alternative\n",
        "\n",
        "      if isinstance(date_str, str):\n",
        "        date = datetime.strptime(date_str.strip(), '%d/%m/%Y')\n",
        "      elif isinstance(date_str, datetime):\n",
        "        date = date_str\n",
        "      else:\n",
        "        raise ValueError(\"The Alternative date is not a string or datetime object.\")\n",
        "\n",
        "      print(f'{sub.full_name}, will be able to attend on: {date.strftime(\"%Y/%m/%d\")}.')\n",
        "\n",
        "    except ValueError:\n",
        "      print(f'{sub.full_name}, entered an invalid date: \\\"{sub.Alternative.strip()}\\\", and can be contacted on {sub.Moodle_Email.strip()} to confirm alternative date(s).')\n"
      ],
      "metadata": {
        "id": "VQ3QWFohfgUL",
        "colab": {
          "base_uri": "https://localhost:8080/"
        },
        "outputId": "154e966e-bb4d-4f90-c6e6-a2afae4d0914"
      },
      "execution_count": 69,
      "outputs": [
        {
          "output_type": "stream",
          "name": "stdout",
          "text": [
            "Jan Pampoen, entered an invalid date: \"NA\", and can be contacted on jan@email.com to confirm alternative date(s).\n",
            "Koos Kakebeen, entered an invalid date: \"Help\", and can be contacted on koos@email.com to confirm alternative date(s).\n",
            "Pieter de Coning, will be able to attend on: 2025/10/05.\n",
            "Amy Tran, will be able to attend on: 2025/07/10.\n",
            "Thomas Dixon, will be able to attend on: 2025/07/17.\n",
            "Russell Frederick, will be able to attend on: 2025/07/22.\n",
            "John Bowman, will be able to attend on: 2025/08/23.\n",
            "Alyssa White, will be able to attend on: 2025/07/10.\n",
            "Katrina Cook, will be able to attend on: 2025/08/04.\n"
          ]
        }
      ]
    },
    {
      "cell_type": "markdown",
      "source": [
        "**Duplicate Email Check:**"
      ],
      "metadata": {
        "id": "8OK6UACy8RoO"
      }
    },
    {
      "cell_type": "code",
      "source": [],
      "metadata": {
        "id": "IfaaVxrY8Q38"
      },
      "execution_count": null,
      "outputs": []
    },
    {
      "cell_type": "markdown",
      "source": [
        "**Duplicate Email Check: (TEST)**"
      ],
      "metadata": {
        "id": "-nFojwTv2h5k"
      }
    },
    {
      "cell_type": "code",
      "source": [
        "# # Check for and display duplicate emails\n",
        "# duplicate_email = []\n",
        "# non_duplicate_email = []\n",
        "\n",
        "# subs_1 = subs\n",
        "# subs_2 = subs2\n",
        "\n",
        "# # Build a set of normalised emails from subs_1 & subs_2 for fast lookup\n",
        "# subs1_emails = {sub.Moodle_Email.strip().lower() for sub in subs_1}\n",
        "# subs2_emails = {sub.Moodle_Email.strip().lower() for sub in subs_2}\n",
        "\n",
        "# # Iterate over subs_2 and check for duplicate emails\n",
        "# for sub2 in subs2_emails:\n",
        "#   if subs2_email in subs1_emails:\n",
        "#       duplicate_email.append((sub2.full_name, sub2.Moodle_Email))\n",
        "#   else:\n",
        "#     non_duplicate_email.append((sub2.full_name, sub2.Moodle_Email))\n",
        "\n",
        "# if len(subs2_emails) > len(subs1_emails):\n",
        "#   if duplicate_email not in subs1_emails:\n",
        "#     subs1_emails.append\n",
        "#     # Check iteration and what happens to duplicates\n",
        "\n",
        "# print(f'Duplicate emails in Form 2, that are already in Form 1: {duplicate_email}')\n",
        "# print(f'New (non-duplicate) emails in Form 2: {non_duplicate_email}')\n"
      ],
      "metadata": {
        "id": "DY22ddcH2w0E",
        "colab": {
          "base_uri": "https://localhost:8080/",
          "height": 211
        },
        "outputId": "fe624a3a-4402-428f-dccf-ccf3c21c2af8"
      },
      "execution_count": 24,
      "outputs": [
        {
          "output_type": "error",
          "ename": "AttributeError",
          "evalue": "'str' object has no attribute 'full_name'",
          "traceback": [
            "\u001b[0;31m---------------------------------------------------------------------------\u001b[0m",
            "\u001b[0;31mAttributeError\u001b[0m                            Traceback (most recent call last)",
            "\u001b[0;32m/tmp/ipython-input-919532177.py\u001b[0m in \u001b[0;36m<cell line: 0>\u001b[0;34m()\u001b[0m\n\u001b[1;32m     15\u001b[0m       \u001b[0mduplicate_email\u001b[0m\u001b[0;34m.\u001b[0m\u001b[0mappend\u001b[0m\u001b[0;34m(\u001b[0m\u001b[0;34m(\u001b[0m\u001b[0msub2\u001b[0m\u001b[0;34m.\u001b[0m\u001b[0mfull_name\u001b[0m\u001b[0;34m,\u001b[0m \u001b[0msub2\u001b[0m\u001b[0;34m.\u001b[0m\u001b[0mMoodle_Email\u001b[0m\u001b[0;34m)\u001b[0m\u001b[0;34m)\u001b[0m\u001b[0;34m\u001b[0m\u001b[0;34m\u001b[0m\u001b[0m\n\u001b[1;32m     16\u001b[0m   \u001b[0;32melse\u001b[0m\u001b[0;34m:\u001b[0m\u001b[0;34m\u001b[0m\u001b[0;34m\u001b[0m\u001b[0m\n\u001b[0;32m---> 17\u001b[0;31m     \u001b[0mnon_duplicate_email\u001b[0m\u001b[0;34m.\u001b[0m\u001b[0mappend\u001b[0m\u001b[0;34m(\u001b[0m\u001b[0;34m(\u001b[0m\u001b[0msub2\u001b[0m\u001b[0;34m.\u001b[0m\u001b[0mfull_name\u001b[0m\u001b[0;34m,\u001b[0m \u001b[0msub2\u001b[0m\u001b[0;34m.\u001b[0m\u001b[0mMoodle_Email\u001b[0m\u001b[0;34m)\u001b[0m\u001b[0;34m)\u001b[0m\u001b[0;34m\u001b[0m\u001b[0;34m\u001b[0m\u001b[0m\n\u001b[0m\u001b[1;32m     18\u001b[0m \u001b[0;34m\u001b[0m\u001b[0m\n\u001b[1;32m     19\u001b[0m \u001b[0;32mif\u001b[0m \u001b[0mlen\u001b[0m\u001b[0;34m(\u001b[0m\u001b[0msubs2_emails\u001b[0m\u001b[0;34m)\u001b[0m \u001b[0;34m>\u001b[0m \u001b[0mlen\u001b[0m\u001b[0;34m(\u001b[0m\u001b[0msubs1_emails\u001b[0m\u001b[0;34m)\u001b[0m\u001b[0;34m:\u001b[0m\u001b[0;34m\u001b[0m\u001b[0;34m\u001b[0m\u001b[0m\n",
            "\u001b[0;31mAttributeError\u001b[0m: 'str' object has no attribute 'full_name'"
          ]
        }
      ]
    },
    {
      "cell_type": "markdown",
      "source": [
        "**Export results to an Excel file:**"
      ],
      "metadata": {
        "id": "Z1ZEpvPw2UCM"
      }
    },
    {
      "cell_type": "code",
      "source": [
        "# Create a DataFrame from the results\n",
        "results_df = pd.DataFrame({\n",
        "    'Duplicate Emails': pd.Series(duplicate_email),\n",
        "    'Non-Duplicate Emails': pd.Series(non_duplicate_email)\n",
        "})\n",
        "print(results_df)\n",
        "print()\n",
        "\n",
        "# Write to Excel\n",
        "results_df.to_excel('Email_Comparison_Results.xlsx', index=False)\n",
        "\n",
        "print(\"Results exported to: 'Email_Comparison_Results.xlsx'\")\n"
      ],
      "metadata": {
        "id": "H2uEcXxR2b_S"
      },
      "execution_count": null,
      "outputs": []
    },
    {
      "cell_type": "markdown",
      "source": [
        "**Sending Email:**"
      ],
      "metadata": {
        "id": "6VPZ1IQrGpEE"
      }
    },
    {
      "cell_type": "code",
      "source": [
        "# Prepare email body as a string\n",
        "body_lines = []\n",
        "\n",
        "body_lines.append('\\nValid emails in Form 1:')\n",
        "for name, email in all_valid_emails:\n",
        "    body_lines.append(f'{name} - ({email})')\n",
        "\n",
        "body_lines.append('\\nNew Non-Duplicate emails in Form 2:')\n",
        "for name, email in non_duplicate_email:\n",
        "    body_lines.append(f'{name} - ({email})')\n",
        "\n",
        "body_lines.append('\\nDuplicate emails in Form 2, (already in Form 1):')\n",
        "for name, email in duplicate_email:\n",
        "    body_lines.append(f'{name} - ({email})')\n",
        "\n",
        "email_body = '\\n'.join(body_lines)\n",
        "\n",
        "# Sending the Email\n",
        "success = send(\n",
        "    sender = \"registrations@anysupport.co.uk\",\n",
        "    app_pass = \"smss eolr jzjl pxvn\",\n",
        "    recip = \"eugene@anysupport.co.uk\",\n",
        "    sub = \"Test Email from Colab\",\n",
        "    body = email_body\n",
        ")\n",
        "\n",
        "print(email_body)"
      ],
      "metadata": {
        "id": "ILe8hocqGtAw"
      },
      "execution_count": null,
      "outputs": []
    }
  ]
}