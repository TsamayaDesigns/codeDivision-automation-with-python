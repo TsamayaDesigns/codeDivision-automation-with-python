{
  "nbformat": 4,
  "nbformat_minor": 0,
  "metadata": {
    "colab": {
      "provenance": [],
      "include_colab_link": true
    },
    "kernelspec": {
      "name": "python3",
      "display_name": "Python 3"
    },
    "language_info": {
      "name": "python"
    }
  },
  "cells": [
    {
      "cell_type": "markdown",
      "metadata": {
        "id": "view-in-github",
        "colab_type": "text"
      },
      "source": [
        "<a href=\"https://colab.research.google.com/github/TsamayaDesigns/codeDivision-automation-with-python/blob/main/automation.ipynb\" target=\"_parent\"><img src=\"https://colab.research.google.com/assets/colab-badge.svg\" alt=\"Open In Colab\"/></a>"
      ]
    },
    {
      "cell_type": "markdown",
      "source": [
        "**Mount Google Drive & Set Working Directory:**"
      ],
      "metadata": {
        "id": "fC_mjGsHkskR"
      }
    },
    {
      "cell_type": "code",
      "source": [
        "# 1️⃣ Mount Google Drive\n",
        "from google.colab import drive\n",
        "drive.mount('/content/drive/')\n",
        "\n",
        "# 2️⃣ Set Working Directory\n",
        "import os\n",
        "working_dir = '/content/drive/MyDrive/codeDivision'\n",
        "os.makedirs(working_dir, exist_ok=True)\n",
        "os.chdir(working_dir)\n",
        "\n",
        "# 3️⃣ Confirm Current Working Directory\n",
        "print(f\"Current working directory is: {os.getcwd()}\")"
      ],
      "metadata": {
        "colab": {
          "base_uri": "https://localhost:8080/"
        },
        "id": "5obh37fuga35",
        "outputId": "25290c20-85b4-42f5-d9c0-d306ecdce307"
      },
      "execution_count": 2,
      "outputs": [
        {
          "output_type": "stream",
          "name": "stdout",
          "text": [
            "Mounted at /content/drive/\n",
            "Current working directory is: /content/drive/MyDrive/codeDivision\n"
          ]
        }
      ]
    },
    {
      "cell_type": "markdown",
      "source": [
        "**Query the Data:**"
      ],
      "metadata": {
        "id": "_yUpcaBZJOMd"
      }
    },
    {
      "cell_type": "code",
      "execution_count": 3,
      "metadata": {
        "id": "i0UHOHvbZWYN"
      },
      "outputs": [],
      "source": [
        "import re\n",
        "from excel_tools import read_sheet\n",
        "fields = ['ID', 'Start_time', 'Completion_time', 'User_Email', 'Name', 'Last_modified_time', 'full_name', 'Need_365', 'Mac_or_PC', 'Moodle_Email', 'Attending', 'Alternative', 'Council', 'Postcode', 'NeuroDivergent', 'Woman', 'Minority', 'Disabled', 'Refugee']\n",
        "subs = read_sheet('EnrolmentForm1.xlsx', fields = fields)\n",
        "\n"
      ]
    },
    {
      "cell_type": "markdown",
      "source": [
        "**Check Attendance:**"
      ],
      "metadata": {
        "id": "b-zbDhIK8vUK"
      }
    },
    {
      "cell_type": "code",
      "source": [
        "# Check if person is attending\n",
        "attend_y = []\n",
        "attend_n = []\n",
        "\n",
        "for sub in subs:\n",
        "    if sub.Attending == 'Yes' or sub.Attending == 'yes' or sub.Attending == 'Y' or sub.Attending == 'y':\n",
        "        attend_y.append(sub)\n",
        "    else:\n",
        "        attend_n.append(sub)\n",
        "\n",
        "print(f'Attendance Yes: {len(attend_y)} \\nAttendance No: {len(attend_n)}')"
      ],
      "metadata": {
        "colab": {
          "base_uri": "https://localhost:8080/"
        },
        "id": "G-TRcpX_8tWv",
        "outputId": "1c5f4253-aad2-41f7-a5ff-90f7326017b1"
      },
      "execution_count": 4,
      "outputs": [
        {
          "output_type": "stream",
          "name": "stdout",
          "text": [
            "Attendance Yes: 8 \n",
            "Attendance No: 9\n"
          ]
        }
      ]
    },
    {
      "cell_type": "markdown",
      "source": [
        "**Email address validation:**"
      ],
      "metadata": {
        "id": "GbPp2z7_U9q9"
      }
    },
    {
      "cell_type": "code",
      "source": [
        "# Check if email address is valid\n",
        "EMAIL_REGEX = re.compile(\n",
        "    r\"^[a-zA-Z0-9_.+-]+@[a-zA-Z0-9-]+\\.[a-zA-Z0-9-.]+$\"\n",
        ")\n",
        "\n",
        "def validate_emails(Moodle_Email):\n",
        "  valid_emails = []\n",
        "  invalid_emails = []\n",
        "\n",
        "  if not EMAIL_REGEX.match(Moodle_Email.strip()):\n",
        "    invalid_emails.append(f'Moodle_Email: {Moodle_Email.strip()}')\n",
        "  else:\n",
        "    valid_emails.append(f'Moodle_Email: {Moodle_Email.strip()}')\n",
        "\n",
        "  return invalid_emails, valid_emails\n",
        "\n",
        "# Collect all valid emails\n",
        "all_valid_emails = []\n",
        "\n",
        "# Print all valid emails\n",
        "for sub in subs:\n",
        "    invalid_emails, valid_emails = validate_emails(sub.Moodle_Email)\n",
        "\n",
        "    if valid_emails:\n",
        "      all_valid_emails.extend(valid_emails)\n",
        "\n",
        "print(f'Valid emails: {all_valid_emails}')\n",
        "\n",
        "print()\n",
        "\n",
        "# Print email address report (for each person)\n",
        "print('Email address report:')\n",
        "for sub in subs:\n",
        "    invalid_emails, valid_emails = validate_emails(sub.Moodle_Email)\n",
        "\n",
        "    if invalid_emails:\n",
        "        print(sub.full_name, 'has invalid email(s):', invalid_emails)\n",
        "\n",
        "    if valid_emails:\n",
        "        print(sub.full_name, 'has valid email(s):', valid_emails)"
      ],
      "metadata": {
        "colab": {
          "base_uri": "https://localhost:8080/"
        },
        "id": "kysH6j0PU1Sy",
        "outputId": "d789b4be-d345-408e-f025-df6a6b679864"
      },
      "execution_count": 5,
      "outputs": [
        {
          "output_type": "stream",
          "name": "stdout",
          "text": [
            "Valid emails: ['Moodle_Email: piet@email.com', 'Moodle_Email: jan@email.com', 'Moodle_Email: koos@email.com', 'Moodle_Email: peter@email.com', 'Moodle_Email: gert@google.com', 'Moodle_Email: JanP@outlook.com', 'Moodle_Email: thompsonpeter@example.org', 'Moodle_Email: gpacheco@example.net', 'Moodle_Email: turnerstephanie@example.com', 'Moodle_Email: patrick79@example.com', 'Moodle_Email: usims@example.net', 'Moodle_Email: deborahcuevas@example.net', 'Moodle_Email: markbutler@example.org', 'Moodle_Email: samanthabrown@example.net', 'Moodle_Email: millerdouglas@example.org', 'Moodle_Email: leemary@example.com']\n",
            "\n",
            "Email address report:\n",
            "Piet Pompies has valid email(s): ['Moodle_Email: piet@email.com']\n",
            "Jan Pampoen has valid email(s): ['Moodle_Email: jan@email.com']\n",
            "Koos Kakebeen has valid email(s): ['Moodle_Email: koos@email.com']\n",
            "Peter Pumpkineater has valid email(s): ['Moodle_Email: peter@email.com']\n",
            "Pieter de Coning has invalid email(s): ['Moodle_Email: pieteremail.com']\n",
            "Gert Coetzee has valid email(s): ['Moodle_Email: gert@google.com']\n",
            "Jan Pierewiet has valid email(s): ['Moodle_Email: JanP@outlook.com']\n",
            "Blake Turner has valid email(s): ['Moodle_Email: thompsonpeter@example.org']\n",
            "Amy Tran has valid email(s): ['Moodle_Email: gpacheco@example.net']\n",
            "Anna Marsh has valid email(s): ['Moodle_Email: turnerstephanie@example.com']\n",
            "William Edwards has valid email(s): ['Moodle_Email: patrick79@example.com']\n",
            "Thomas Dixon has valid email(s): ['Moodle_Email: usims@example.net']\n",
            "Jonathan Morton has valid email(s): ['Moodle_Email: deborahcuevas@example.net']\n",
            "Russell Frederick has valid email(s): ['Moodle_Email: markbutler@example.org']\n",
            "John Bowman has valid email(s): ['Moodle_Email: samanthabrown@example.net']\n",
            "Alyssa White has valid email(s): ['Moodle_Email: millerdouglas@example.org']\n",
            "Katrina Cook has valid email(s): ['Moodle_Email: leemary@example.com']\n"
          ]
        }
      ]
    },
    {
      "cell_type": "markdown",
      "source": [
        "**Office 365 Requirements:**"
      ],
      "metadata": {
        "id": "HTp3yduR8LZI"
      }
    },
    {
      "cell_type": "code",
      "source": [
        "# Establish Office 365 requirements\n",
        "o365_y = []\n",
        "o365_n = []\n",
        "\n",
        "for sub in subs:\n",
        "    if sub.Need_365 == 'Yes' or sub.Need_365 == 'yes' or sub.Need_365 == 'Y' or sub.Need_365 == 'y':\n",
        "        o365_y.append(sub)\n",
        "    else:\n",
        "        o365_n.append(sub)\n",
        "\n",
        "print(f'Require 365 - Yes: {len(o365_y)} \\nRequire 365 - No: {len(o365_n)}')"
      ],
      "metadata": {
        "colab": {
          "base_uri": "https://localhost:8080/"
        },
        "id": "nrrh9S4x980P",
        "outputId": "18b99980-3f0d-446d-892b-6573edab53fb"
      },
      "execution_count": 6,
      "outputs": [
        {
          "output_type": "stream",
          "name": "stdout",
          "text": [
            "Require 365 - Yes: 7 \n",
            "Require 365 - No: 10\n"
          ]
        }
      ]
    },
    {
      "cell_type": "markdown",
      "source": [
        "**Available Dates:**"
      ],
      "metadata": {
        "id": "KEe6SqCsfIvr"
      }
    },
    {
      "cell_type": "code",
      "source": [
        "# Check alternative dates for people unable attend\n",
        "from datetime import datetime\n",
        "\n",
        "for sub in subs:\n",
        "  if sub.Attending.strip().lower() in ['no', 'n']:\n",
        "    try:\n",
        "      date_str = sub.Alternative\n",
        "\n",
        "      if isinstance(date_str, str):\n",
        "        date = datetime.strptime(date_str.strip(), '%d/%m/%Y')\n",
        "      elif isinstance(date_str, datetime):\n",
        "        date = date_str\n",
        "      else:\n",
        "        raise ValueError(\"The Alternative date is not a string or datetime object.\")\n",
        "\n",
        "      print(f'{sub.full_name}, will be able to attend on: {date.strftime(\"%Y/%m/%d\")}.')\n",
        "\n",
        "    except ValueError:\n",
        "      print(f'{sub.full_name}, entered an invalid date: \\\"{sub.Alternative.strip()}\\\", and can be contacted on {sub.Moodle_Email.strip()} to confirm alternative date(s).')\n",
        "\n",
        "\n",
        "\n"
      ],
      "metadata": {
        "colab": {
          "base_uri": "https://localhost:8080/"
        },
        "id": "VQ3QWFohfgUL",
        "outputId": "80423333-a756-4c6b-c525-898d94192b41"
      },
      "execution_count": 7,
      "outputs": [
        {
          "output_type": "stream",
          "name": "stdout",
          "text": [
            "Jan Pampoen, entered an invalid date: \"NA\", and can be contacted on jan@email.com to confirm alternative date(s).\n",
            "Koos Kakebeen, entered an invalid date: \"Help\", and can be contacted on koos@email.com to confirm alternative date(s).\n",
            "Pieter de Coning, will be able to attend on: 2025/10/05.\n",
            "Amy Tran, will be able to attend on: 2025/07/10.\n",
            "Thomas Dixon, will be able to attend on: 2025/07/17.\n",
            "Russell Frederick, will be able to attend on: 2025/07/22.\n",
            "John Bowman, will be able to attend on: 2025/08/23.\n",
            "Alyssa White, will be able to attend on: 2025/07/10.\n",
            "Katrina Cook, will be able to attend on: 2025/08/04.\n"
          ]
        }
      ]
    },
    {
      "cell_type": "markdown",
      "source": [
        "**Duplicate Email Check:**"
      ],
      "metadata": {
        "id": "-nFojwTv2h5k"
      }
    },
    {
      "cell_type": "code",
      "source": [
        "# Check for and display duplicate emails\n",
        "duplicate_email = []\n",
        "non_duplicate_email = []\n",
        "\n",
        "fields = ['ID', 'Start_time', 'Completion_time', 'User_Email', 'Name', 'Last_modified_time', 'full_name', 'Need_365', 'Mac_or_PC', 'Moodle_Email', 'Attending', 'Alternative', 'Council', 'Postcode', 'NeuroDivergent', 'Woman', 'Minority', 'Disabled', 'Refugee']\n",
        "subs_1 = read_sheet('EnrolmentForm1.xlsx', fields = fields)\n",
        "subs_2 = read_sheet('EnrolmentForm2.xlsx', fields = fields)\n",
        "print(subs_1[:3])\n",
        "print(subs_2[:3])\n",
        "\n",
        "for sub1 in subs_1:\n",
        "    email_valid = False\n",
        "    for sub2 in subs_2:\n",
        "        if sub2.Moodle_Email == sub1.Moodle_Email:\n",
        "            duplicate_email.append(sub2.Moodle_Email)\n",
        "            email_valid = True\n",
        "            break\n",
        "    if not email_valid:\n",
        "        non_duplicate_email.append(sub2.Moodle_Email)\n",
        "\n",
        "\n",
        "print(f'Duplicate emails in Form 2, that are already in Form 1: {duplicate_email}')\n",
        "print(f'New (non-duplicate) emails in Form 2: {non_duplicate_email}')"
      ],
      "metadata": {
        "colab": {
          "base_uri": "https://localhost:8080/"
        },
        "id": "DY22ddcH2w0E",
        "outputId": "1d95c401-36c9-4f36-af66-1362cf59a1bb"
      },
      "execution_count": 31,
      "outputs": [
        {
          "output_type": "stream",
          "name": "stdout",
          "text": [
            "[Row(ID=1, Start_time=datetime.datetime(2025, 7, 17, 17, 36, 32), Completion_time=datetime.datetime(2025, 7, 17, 17, 37, 33), User_Email='anonymous', Name=None, Last_modified_time=None, full_name='Piet Pompies', Need_365='Yes', Mac_or_PC='PC', Moodle_Email='piet@email.com', Attending='Yes', Alternative='NA', Council='Perth', Postcode='PH1', NeuroDivergent='No', Woman='No', Minority='No', Disabled='Yes', Refugee='No'), Row(ID=2, Start_time=datetime.datetime(2025, 7, 17, 17, 38, 34), Completion_time=datetime.datetime(2025, 7, 17, 17, 39, 15), User_Email='anonymous', Name=None, Last_modified_time=None, full_name='Jan Pampoen', Need_365='No', Mac_or_PC='Mac', Moodle_Email='jan@email.com', Attending='No', Alternative='NA', Council='Dundee', Postcode='DD1', NeuroDivergent='Yes', Woman='Yes', Minority='Yes', Disabled='No', Refugee='Yes'), Row(ID=3, Start_time=datetime.datetime(2025, 7, 17, 18, 13, 48), Completion_time=datetime.datetime(2025, 7, 17, 18, 14, 51), User_Email='anonymous', Name=None, Last_modified_time=None, full_name='Koos Kakebeen', Need_365='Yes', Mac_or_PC='Mac', Moodle_Email='koos@email.com', Attending='No', Alternative='Help', Council='West Lothian', Postcode='EH1', NeuroDivergent='No', Woman='Yes', Minority='No', Disabled='Yes', Refugee='Yes')]\n",
            "[Row(ID=1, Start_time=datetime.datetime(2025, 7, 19, 12, 7, 48), Completion_time=datetime.datetime(2025, 7, 19, 12, 9, 1), User_Email='anonymous', Name=None, Last_modified_time=None, full_name='Mike Hassett', Need_365='Yes', Mac_or_PC='PC', Moodle_Email='mike@mail.com', Attending='No', Alternative='25/09/2025', Council='Mid-Lothian', Postcode='EH2', NeuroDivergent='No', Woman='No', Minority='No', Disabled='No', Refugee='No'), Row(ID=2, Start_time=datetime.datetime(2025, 7, 19, 12, 9, 7), Completion_time=datetime.datetime(2025, 7, 19, 12, 10, 22), User_Email='anonymous', Name=None, Last_modified_time=None, full_name='Ben Burger', Need_365='No', Mac_or_PC='Mac', Moodle_Email='ben@gmail.com', Attending='Yes', Alternative='21/10/2025', Council='Mangaung', Postcode='9301', NeuroDivergent='No', Woman='No', Minority='No', Disabled='Yes', Refugee='No'), Row(ID=3, Start_time=datetime.datetime(2025, 7, 19, 12, 10, 38), Completion_time=datetime.datetime(2025, 7, 19, 12, 12), User_Email='anonymous', Name=None, Last_modified_time=None, full_name='Clive Greenwood', Need_365='Yes', Mac_or_PC='PC', Moodle_Email='clive@trustytransport.co.za', Attending='No', Alternative='N/A', Council='Fife', Postcode='DD5', NeuroDivergent='No', Woman='No', Minority='No', Disabled='No', Refugee='No')]\n",
            "Duplicate emails in Form 2, that are already in Form 1: ['gert@google.com', 'JanP@outlook.com', 'thompsonpeter@example.org', 'gpacheco@example.net']\n",
            "New (non-duplicate) emails in Form 2: ['gpacheco@example.net', 'gpacheco@example.net', 'gpacheco@example.net', 'gpacheco@example.net', 'gpacheco@example.net', 'gpacheco@example.net', 'gpacheco@example.net', 'gpacheco@example.net', 'gpacheco@example.net', 'gpacheco@example.net', 'gpacheco@example.net', 'gpacheco@example.net', 'gpacheco@example.net']\n"
          ]
        }
      ]
    }
  ]
}