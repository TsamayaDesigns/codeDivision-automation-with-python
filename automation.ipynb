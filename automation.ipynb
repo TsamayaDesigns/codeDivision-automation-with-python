{
  "nbformat": 4,
  "nbformat_minor": 0,
  "metadata": {
    "colab": {
      "provenance": [],
      "include_colab_link": true
    },
    "kernelspec": {
      "name": "python3",
      "display_name": "Python 3"
    },
    "language_info": {
      "name": "python"
    }
  },
  "cells": [
    {
      "cell_type": "markdown",
      "metadata": {
        "id": "view-in-github",
        "colab_type": "text"
      },
      "source": [
        "<a href=\"https://colab.research.google.com/github/TsamayaDesigns/codeDivision-automation-with-python/blob/main/automation.ipynb\" target=\"_parent\"><img src=\"https://colab.research.google.com/assets/colab-badge.svg\" alt=\"Open In Colab\"/></a>"
      ]
    },
    {
      "cell_type": "markdown",
      "source": [
        "**Mount Google Drive & Set Working Directory:**"
      ],
      "metadata": {
        "id": "fC_mjGsHkskR"
      }
    },
    {
      "cell_type": "code",
      "source": [
        "# 1️⃣ Mount Google Drive\n",
        "from google.colab import drive\n",
        "drive.mount('/content/drive/')\n",
        "\n",
        "# 2️⃣ Set Working Directory\n",
        "import os\n",
        "working_dir = '/content/drive/MyDrive/codeDivision'\n",
        "os.makedirs(working_dir, exist_ok=True)\n",
        "os.chdir(working_dir)\n",
        "\n",
        "# 3️⃣ Confirm Current Working Directory\n",
        "print(f\"Current working directory is: {os.getcwd()}\")"
      ],
      "metadata": {
        "colab": {
          "base_uri": "https://localhost:8080/"
        },
        "id": "5obh37fuga35",
        "outputId": "07fc2b9e-bbf0-4294-9308-93d4bd42ff5d"
      },
      "execution_count": 1,
      "outputs": [
        {
          "output_type": "stream",
          "name": "stdout",
          "text": [
            "Drive already mounted at /content/drive/; to attempt to forcibly remount, call drive.mount(\"/content/drive/\", force_remount=True).\n",
            "Current working directory is: /content/drive/MyDrive/codeDivision\n"
          ]
        }
      ]
    },
    {
      "cell_type": "code",
      "execution_count": 3,
      "metadata": {
        "colab": {
          "base_uri": "https://localhost:8080/"
        },
        "id": "i0UHOHvbZWYN",
        "outputId": "e5fe42cb-e0e3-4074-c3fd-189b939e17f8"
      },
      "outputs": [
        {
          "output_type": "stream",
          "name": "stdout",
          "text": [
            "[Row(ID=1, Start_time=datetime.datetime(2025, 7, 17, 17, 36, 32), Completion_time=datetime.datetime(2025, 7, 17, 17, 37, 33), User_Email='anonymous', Name=None, Last_modified_time=None, full_name='Piet Pompies', Need_365='Yes', Mac_or_PC='Option 1', Moodle_Email='piet@email.com', Attending='Yes', Alternative='NA', Council='Perth', Postcode='PH1', NeuroDivergent='No', Woman='No', Minority='No', Disabled='Yes', Refugee='No'), Row(ID=2, Start_time=datetime.datetime(2025, 7, 17, 17, 38, 34), Completion_time=datetime.datetime(2025, 7, 17, 17, 39, 15), User_Email='anonymous', Name=None, Last_modified_time=None, full_name='Jan Pampoen', Need_365='No', Mac_or_PC='Option 2', Moodle_Email='jan@email.com', Attending='No', Alternative='NA', Council='Dundee', Postcode='DD1', NeuroDivergent='Yes', Woman='Yes', Minority='Yes', Disabled='No', Refugee='Yes'), Row(ID=3, Start_time=datetime.datetime(2025, 7, 17, 18, 13, 48), Completion_time=datetime.datetime(2025, 7, 17, 18, 14, 51), User_Email='anonymous', Name=None, Last_modified_time=None, full_name='Koos Kakebeen', Need_365='Yes', Mac_or_PC='Mac', Moodle_Email='koos@email.com', Attending='No', Alternative='Help', Council='West Lothian', Postcode='EH1', NeuroDivergent='No', Woman='Yes', Minority='No', Disabled='Yes', Refugee='Yes'), Row(ID=4, Start_time=datetime.datetime(2025, 7, 17, 18, 15, 18), Completion_time=datetime.datetime(2025, 7, 17, 18, 16, 15), User_Email='anonymous', Name=None, Last_modified_time=None, full_name='Peter Pumpkineater', Need_365='No', Mac_or_PC='PC', Moodle_Email='peter@email.com', Attending='Yes', Alternative='21/09/2025', Council='Dundee', Postcode='DD2', NeuroDivergent='No', Woman='No', Minority='No', Disabled='Yes', Refugee='No'), Row(ID=5, Start_time=datetime.datetime(2025, 7, 19, 12, 4, 52), Completion_time=datetime.datetime(2025, 7, 19, 12, 6, 43), User_Email='anonymous', Name=None, Last_modified_time=None, full_name='Pieter de Coning', Need_365='Yes', Mac_or_PC='PC', Moodle_Email='pieteremail.com', Attending='No', Alternative='5/10/2025', Council='Perth & Kinross', Postcode='PH2', NeuroDivergent='No', Woman='Yes', Minority='No', Disabled='Yes', Refugee='Yes')]\n",
            "[Row(ID=1, Start_time=datetime.datetime(2025, 7, 17, 17, 36, 32), Completion_time=datetime.datetime(2025, 7, 17, 17, 37, 33), User_Email='anonymous', Name=None, Last_modified_time=None, full_name='Piet Pompies', Need_365='Yes', Mac_or_PC='Option 1', Moodle_Email='piet@email.com', Attending='Yes', Alternative='NA', Council='Perth', Postcode='PH1', NeuroDivergent='No', Woman='No', Minority='No', Disabled='Yes', Refugee='No'), Row(ID=4, Start_time=datetime.datetime(2025, 7, 17, 18, 15, 18), Completion_time=datetime.datetime(2025, 7, 17, 18, 16, 15), User_Email='anonymous', Name=None, Last_modified_time=None, full_name='Peter Pumpkineater', Need_365='No', Mac_or_PC='PC', Moodle_Email='peter@email.com', Attending='Yes', Alternative='21/09/2025', Council='Dundee', Postcode='DD2', NeuroDivergent='No', Woman='No', Minority='No', Disabled='Yes', Refugee='No')]\n",
            "[Row(ID=2, Start_time=datetime.datetime(2025, 7, 17, 17, 38, 34), Completion_time=datetime.datetime(2025, 7, 17, 17, 39, 15), User_Email='anonymous', Name=None, Last_modified_time=None, full_name='Jan Pampoen', Need_365='No', Mac_or_PC='Option 2', Moodle_Email='jan@email.com', Attending='No', Alternative='NA', Council='Dundee', Postcode='DD1', NeuroDivergent='Yes', Woman='Yes', Minority='Yes', Disabled='No', Refugee='Yes'), Row(ID=3, Start_time=datetime.datetime(2025, 7, 17, 18, 13, 48), Completion_time=datetime.datetime(2025, 7, 17, 18, 14, 51), User_Email='anonymous', Name=None, Last_modified_time=None, full_name='Koos Kakebeen', Need_365='Yes', Mac_or_PC='Mac', Moodle_Email='koos@email.com', Attending='No', Alternative='Help', Council='West Lothian', Postcode='EH1', NeuroDivergent='No', Woman='Yes', Minority='No', Disabled='Yes', Refugee='Yes'), Row(ID=5, Start_time=datetime.datetime(2025, 7, 19, 12, 4, 52), Completion_time=datetime.datetime(2025, 7, 19, 12, 6, 43), User_Email='anonymous', Name=None, Last_modified_time=None, full_name='Pieter de Coning', Need_365='Yes', Mac_or_PC='PC', Moodle_Email='pieteremail.com', Attending='No', Alternative='5/10/2025', Council='Perth & Kinross', Postcode='PH2', NeuroDivergent='No', Woman='Yes', Minority='No', Disabled='Yes', Refugee='Yes')]\n",
            "Piet Pompies has invalid email(s): User_Email: anonymous\n",
            "Jan Pampoen has invalid email(s): User_Email: anonymous\n",
            "Koos Kakebeen has invalid email(s): User_Email: anonymous\n",
            "Peter Pumpkineater has invalid email(s): User_Email: anonymous\n",
            "Pieter de Coning has invalid email(s): User_Email: anonymous, Moodle_Email: pieteremail.com\n"
          ]
        }
      ],
      "source": [
        "import re\n",
        "from excel_tools import read_sheet\n",
        "fields = ['ID', 'Start_time', 'Completion_time', 'User_Email', 'Name', 'Last_modified_time', 'full_name', 'Need_365', 'Mac_or_PC', 'Moodle_Email', 'Attending', 'Alternative', 'Council', 'Postcode', 'NeuroDivergent', 'Woman', 'Minority', 'Disabled', 'Refugee']\n",
        "subs = read_sheet('EnrolmentForm1.xlsx', fields = fields)\n",
        "print(subs)\n",
        "\n",
        "\n",
        "# Check if person is attending\n",
        "has_y = []\n",
        "has_n = []\n",
        "\n",
        "for sub in subs:\n",
        "    if sub.Attending == 'Yes' or sub.Attending == 'yes' or sub.Attending == 'Y' or sub.Attending == 'y':\n",
        "        has_y.append(sub)\n",
        "    else:\n",
        "        has_n.append(sub)\n",
        "\n",
        "print(has_y)\n",
        "print(has_n)\n",
        "\n",
        "# Check if email is valid\n",
        "EMAIL_REGEX = re.compile(\n",
        "    r\"^[a-zA-Z0-9_.+-]+@[a-zA-Z0-9-]+\\.[a-zA-Z0-9-.]+$\"\n",
        ")\n",
        "\n",
        "def validate_emails(User_Email, Moodle_Email):\n",
        "  invalid_emails = []\n",
        "\n",
        "  if not EMAIL_REGEX.match(User_Email):\n",
        "    invalid_emails.append(f'User_Email: {User_Email}')\n",
        "\n",
        "  if not EMAIL_REGEX.match(Moodle_Email):\n",
        "    invalid_emails.append(f'Moodle_Email: {Moodle_Email}')\n",
        "\n",
        "  return invalid_emails\n",
        "\n",
        "\n",
        "for sub in subs:\n",
        "    invalid_emails = validate_emails(sub.User_Email, sub.Moodle_Email)\n",
        "    if invalid_emails:\n",
        "        print(sub.full_name, 'has invalid email(s):', ', '.join(invalid_emails))\n"
      ]
    }
  ]
}