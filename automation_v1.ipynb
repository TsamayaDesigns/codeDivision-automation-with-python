{
  "nbformat": 4,
  "nbformat_minor": 0,
  "metadata": {
    "colab": {
      "provenance": [],
      "include_colab_link": true
    },
    "kernelspec": {
      "name": "python3",
      "display_name": "Python 3"
    },
    "language_info": {
      "name": "python"
    }
  },
  "cells": [
    {
      "cell_type": "markdown",
      "metadata": {
        "id": "view-in-github",
        "colab_type": "text"
      },
      "source": [
        "<a href=\"https://colab.research.google.com/github/TsamayaDesigns/codeDivision-automation-with-python/blob/main/automation_v1.ipynb\" target=\"_parent\"><img src=\"https://colab.research.google.com/assets/colab-badge.svg\" alt=\"Open In Colab\"/></a>"
      ]
    },
    {
      "cell_type": "markdown",
      "source": [
        "**Mount Google Drive & Set Working Directory:**"
      ],
      "metadata": {
        "id": "fC_mjGsHkskR"
      }
    },
    {
      "cell_type": "code",
      "source": [
        "# 1️⃣ Mount Google Drive\n",
        "from google.colab import drive\n",
        "drive.mount('/content/drive/')\n",
        "\n",
        "# 2️⃣ Set Working Directory\n",
        "import os\n",
        "working_dir = '/content/drive/MyDrive/codeDivision/automation_project'\n",
        "os.makedirs(working_dir, exist_ok=True)\n",
        "os.chdir(working_dir)\n",
        "\n",
        "# 3️⃣ Confirm Current Working Directory\n",
        "print(f\"Current working directory is: {os.getcwd()}\")"
      ],
      "metadata": {
        "colab": {
          "base_uri": "https://localhost:8080/"
        },
        "id": "5obh37fuga35",
        "outputId": "ac09a64f-0e52-49ee-9f15-edc47a75a1fe"
      },
      "execution_count": 1,
      "outputs": [
        {
          "output_type": "stream",
          "name": "stdout",
          "text": [
            "Mounted at /content/drive/\n",
            "Current working directory is: /content/drive/MyDrive/codeDivision/automation_project\n"
          ]
        }
      ]
    },
    {
      "cell_type": "markdown",
      "source": [
        "**Query the Data:**"
      ],
      "metadata": {
        "id": "_yUpcaBZJOMd"
      }
    },
    {
      "cell_type": "code",
      "execution_count": 12,
      "metadata": {
        "id": "i0UHOHvbZWYN",
        "colab": {
          "base_uri": "https://localhost:8080/"
        },
        "outputId": "62eab194-a7dc-4a7f-fc12-510d2b29a7a5"
      },
      "outputs": [
        {
          "output_type": "stream",
          "name": "stdout",
          "text": [
            "data/EnrolmentForm1.xlsx: 17 submissions\n",
            "First two submissions:\n",
            " [Row(ID=1, Start_time=datetime.datetime(2025, 7, 17, 17, 36, 32), Completion_time=datetime.datetime(2025, 7, 17, 17, 37, 33), User_Email='anonymous', Name=None, Last_modified_time=None, Full_Name='Piet Pompies', Need_365='Yes', Mac_or_PC='PC', Moodle_Email='piet@email.com', Attending='Yes', Alternative='NA', Council='Perth', Postcode='PH1', NeuroDivergent='No', Woman='No', Minority='No', Disabled='Yes', Refugee='No'), Row(ID=2, Start_time=datetime.datetime(2025, 7, 17, 17, 38, 34), Completion_time=datetime.datetime(2025, 7, 17, 17, 39, 15), User_Email='anonymous', Name=None, Last_modified_time=None, Full_Name='Jan Pampoen', Need_365='No', Mac_or_PC='Mac', Moodle_Email='jan@email.com', Attending='No', Alternative='NA', Council='Dundee', Postcode='DD1', NeuroDivergent='Yes', Woman='Yes', Minority='Yes', Disabled='No', Refugee='Yes')]\n",
            "\n",
            "data/EnrolmentForm2.xlsx: 9 submissions\n",
            "First two submissions:\n",
            " [Row(ID=1, Start_time=datetime.datetime(2025, 7, 19, 12, 7, 48), Completion_time=datetime.datetime(2025, 7, 19, 12, 9, 1), User_Email='anonymous', Name=None, Last_modified_time=None, Full_Name='Mike Hassett', Need_365='Yes', Mac_or_PC='PC', Moodle_Email='mike@mail.com', Attending='No', Alternative='25/09/2025', Council='Mid-Lothian', Postcode='EH2', NeuroDivergent='No', Woman='No', Minority='No', Disabled='No', Refugee='No'), Row(ID=2, Start_time=datetime.datetime(2025, 7, 19, 12, 9, 7), Completion_time=datetime.datetime(2025, 7, 19, 12, 10, 22), User_Email='anonymous', Name=None, Last_modified_time=None, Full_Name='Ben Burger', Need_365='No', Mac_or_PC='Mac', Moodle_Email='ben@gmail.com', Attending='Yes', Alternative='21/10/2025', Council='Mangaung', Postcode='9301', NeuroDivergent='No', Woman='No', Minority='No', Disabled='Yes', Refugee='No')]\n",
            "\n",
            "Attendance: (data/EnrolmentForm1.xlsx) - Yes: 8, No: 9\n",
            "Attendance: (data/EnrolmentForm2.xlsx) - Yes: 4, No: 5\n"
          ]
        }
      ],
      "source": [
        "# import pandas as pd\n",
        "\n",
        "from excel_tools import read_sheet\n",
        "import re\n",
        "from datetime import datetime\n",
        "from smtp import send\n",
        "\n",
        "fields = ['ID', 'Start_time', 'Completion_time', 'User_Email', 'Name', 'Last_modified_time', 'Full_Name', 'Need_365', 'Mac_or_PC', 'Moodle_Email', 'Attending', 'Alternative', 'Council', 'Postcode', 'NeuroDivergent', 'Woman', 'Minority', 'Disabled', 'Refugee']\n",
        "\n",
        "# Create a class to represent the enrolment form\n",
        "class EnrolmentForm:\n",
        "  def __init__(self, filename, fields):\n",
        "    self.filename = filename\n",
        "    self.fields = fields\n",
        "    self.submissions = self._load_data()\n",
        "\n",
        "  def _load_data(self):\n",
        "    return read_sheet(self.filename, fields = self.fields)\n",
        "\n",
        "  def count(self):\n",
        "      return len(self.submissions)\n",
        "\n",
        "  def attendance_counts(self):\n",
        "      attend_y = [s for s in self.submissions if str(s.Attending).lower() in ['yes', 'y']]\n",
        "      attend_n = [s for s in self.submissions if str(s.Attending).lower() in ['no', 'n']]\n",
        "      return len(attend_y), len(attend_n)\n",
        "\n",
        "  def invalid_emails(self):\n",
        "      EMAIL_REGEX = re.compile(\n",
        "          r\"^[a-zA-Z0-9_.+-]+@[a-zA-Z0-9-]+\\.[a-zA-Z0-9-.]+$\"\n",
        "      )\n",
        "\n",
        "\n",
        "\n",
        "  def __str__(self):\n",
        "      return f\"{self.filename}: {self.count()} submissions\"\n",
        "\n",
        "# Create form objects\n",
        "filenames = ['data/EnrolmentForm1.xlsx', 'data/EnrolmentForm2.xlsx']\n",
        "forms = [EnrolmentForm(filename, fields) for filename in filenames]\n",
        "\n",
        "# Print form details\n",
        "for form in forms:\n",
        "  print(form)\n",
        "  print('First two submissions:\\n', form.submissions[:2])\n",
        "  print()\n",
        "\n",
        "# Attendance\n",
        "for form in forms:\n",
        "    attend_y, attend_n = form.attendance_counts()\n",
        "    print(f\"Attendance: ({form.filename}) - Yes: {attend_y}, No: {attend_n}\")\n"
      ]
    },
    {
      "cell_type": "markdown",
      "source": [
        "**Check Attendance:**"
      ],
      "metadata": {
        "id": "b-zbDhIK8vUK"
      }
    },
    {
      "cell_type": "code",
      "source": [
        "# Check if person is attending\n",
        "attend_y = []\n",
        "attend_n = []\n",
        "\n",
        "for form in forms:\n",
        "    if form.Attending == 'Yes' or sub.Attending == 'yes' or sub.Attending == 'Y' or sub.Attending == 'y':\n",
        "        attend_y.append(sub)\n",
        "    else:\n",
        "        attend_n.append(sub)\n",
        "\n",
        "print(f'Attendance Yes: {len(attend_y)} \\nAttendance No: {len(attend_n)}')"
      ],
      "metadata": {
        "id": "G-TRcpX_8tWv"
      },
      "execution_count": null,
      "outputs": []
    },
    {
      "cell_type": "markdown",
      "source": [
        "**Email address validation:**"
      ],
      "metadata": {
        "id": "GbPp2z7_U9q9"
      }
    },
    {
      "cell_type": "code",
      "source": [
        "# Check if email address is valid\n",
        "EMAIL_REGEX = re.compile(\n",
        "    r\"^[a-zA-Z0-9_.+-]+@[a-zA-Z0-9-]+\\.[a-zA-Z0-9-.]+$\"\n",
        ")\n",
        "\n",
        "def validate_emails(Moodle_Email):\n",
        "  valid_emails = []\n",
        "  invalid_emails = []\n",
        "\n",
        "  if not EMAIL_REGEX.match(Moodle_Email.strip()):\n",
        "    invalid_emails.append(f'Moodle_Email: {Moodle_Email.strip()}')\n",
        "  else:\n",
        "    valid_emails.append(f'Moodle_Email: {Moodle_Email.strip()}')\n",
        "\n",
        "  return invalid_emails, valid_emails\n",
        "\n",
        "# Collect all valid emails\n",
        "all_valid_emails = []\n",
        "\n",
        "# Print all valid emails\n",
        "for sub in subs:\n",
        "    invalid_emails, valid_emails = validate_emails(sub.Moodle_Email)\n",
        "\n",
        "    if valid_emails:\n",
        "      all_valid_emails.append((sub.full_name, sub.Moodle_Email))\n",
        "\n",
        "print(f'Valid emails: {all_valid_emails}')\n",
        "\n",
        "print()\n",
        "\n",
        "# Print email address report (for each person)\n",
        "print('Email address report:')\n",
        "for sub in subs:\n",
        "    invalid_emails, valid_emails = validate_emails(sub.Moodle_Email)\n",
        "\n",
        "    if invalid_emails:\n",
        "        print(sub.full_name, 'has invalid email(s):', invalid_emails)\n",
        "\n",
        "    if valid_emails:\n",
        "        print(sub.full_name, 'has valid email(s):', valid_emails)"
      ],
      "metadata": {
        "id": "kysH6j0PU1Sy"
      },
      "execution_count": null,
      "outputs": []
    },
    {
      "cell_type": "markdown",
      "source": [
        "**Office 365 Requirements:**"
      ],
      "metadata": {
        "id": "HTp3yduR8LZI"
      }
    },
    {
      "cell_type": "code",
      "source": [
        "# Establish Office 365 requirements\n",
        "o365_y = []\n",
        "o365_n = []\n",
        "\n",
        "for sub in subs:\n",
        "    if sub.Need_365 == 'Yes' or sub.Need_365 == 'yes' or sub.Need_365 == 'Y' or sub.Need_365 == 'y':\n",
        "        o365_y.append(sub)\n",
        "    else:\n",
        "        o365_n.append(sub)\n",
        "\n",
        "print(f'Require 365 - Yes: {len(o365_y)} \\nRequire 365 - No: {len(o365_n)}')"
      ],
      "metadata": {
        "id": "nrrh9S4x980P"
      },
      "execution_count": null,
      "outputs": []
    },
    {
      "cell_type": "markdown",
      "source": [
        "**Available Dates:**"
      ],
      "metadata": {
        "id": "KEe6SqCsfIvr"
      }
    },
    {
      "cell_type": "code",
      "source": [
        "# Check alternative dates for people unable attend\n",
        "\n",
        "for sub in subs:\n",
        "  if sub.Attending.strip().lower() in ['no', 'n']:\n",
        "    try:\n",
        "      date_str = sub.Alternative\n",
        "\n",
        "      if isinstance(date_str, str):\n",
        "        date = datetime.strptime(date_str.strip(), '%d/%m/%Y')\n",
        "      elif isinstance(date_str, datetime):\n",
        "        date = date_str\n",
        "      else:\n",
        "        raise ValueError(\"The Alternative date is not a string or datetime object.\")\n",
        "\n",
        "      print(f'{sub.full_name}, will be able to attend on: {date.strftime(\"%Y/%m/%d\")}.')\n",
        "\n",
        "    except ValueError:\n",
        "      print(f'{sub.full_name}, entered an invalid date: \\\"{sub.Alternative.strip()}\\\", and can be contacted on {sub.Moodle_Email.strip()} to confirm alternative date(s).')\n",
        "\n",
        "\n",
        "\n"
      ],
      "metadata": {
        "id": "VQ3QWFohfgUL"
      },
      "execution_count": null,
      "outputs": []
    },
    {
      "cell_type": "markdown",
      "source": [
        "**Duplicate Email Check:**"
      ],
      "metadata": {
        "id": "-nFojwTv2h5k"
      }
    },
    {
      "cell_type": "code",
      "source": [
        "# Check for and display duplicate emails\n",
        "duplicate_email = []\n",
        "non_duplicate_email = []\n",
        "\n",
        "# Read data from both forms\n",
        "# subs_1 = read_sheet('EnrolmentForm1.xlsx', fields = fields)\n",
        "# subs_2 = read_sheet('EnrolmentForm2.xlsx', fields = fields)\n",
        "\n",
        "# Build a set of normalised emails from subs_1 for fast lookup\n",
        "subs1_emails = {sub.Moodle_Email.strip().lower() for sub in subs_1}\n",
        "\n",
        "# Iterate over subs_2 and check for duplicate emails\n",
        "for sub2 in subs_2:\n",
        "  subs2_email = sub2.Moodle_Email.strip().lower()\n",
        "  if subs2_email in subs1_emails:\n",
        "      duplicate_email.append((sub2.full_name, sub2.Moodle_Email))\n",
        "  else:\n",
        "    non_duplicate_email.append((sub2.full_name, sub2.Moodle_Email))\n",
        "\n",
        "print(f'Duplicate emails in Form 2, that are already in Form 1: {duplicate_email}')\n",
        "print(f'New (non-duplicate) emails in Form 2: {non_duplicate_email}')"
      ],
      "metadata": {
        "id": "DY22ddcH2w0E"
      },
      "execution_count": null,
      "outputs": []
    },
    {
      "cell_type": "markdown",
      "source": [
        "**Export results to an Excel file:**"
      ],
      "metadata": {
        "id": "Z1ZEpvPw2UCM"
      }
    },
    {
      "cell_type": "code",
      "source": [
        "# Create a DataFrame from the results\n",
        "results_df = pd.DataFrame({\n",
        "    'Duplicate Emails': pd.Series(duplicate_email),\n",
        "    'Non-Duplicate Emails': pd.Series(non_duplicate_email)\n",
        "})\n",
        "print(results_df)\n",
        "print()\n",
        "\n",
        "# Write to Excel\n",
        "results_df.to_excel('Email_Comparison_Results.xlsx', index=False)\n",
        "\n",
        "print(\"Results exported to: 'Email_Comparison_Results.xlsx'\")\n"
      ],
      "metadata": {
        "id": "H2uEcXxR2b_S"
      },
      "execution_count": null,
      "outputs": []
    },
    {
      "cell_type": "markdown",
      "source": [
        "**Sending Email:**"
      ],
      "metadata": {
        "id": "6VPZ1IQrGpEE"
      }
    },
    {
      "cell_type": "code",
      "source": [
        "# Prepare email body as a string\n",
        "body_lines = []\n",
        "\n",
        "body_lines.append('\\nValid emails in Form 1:')\n",
        "for name, email in all_valid_emails:\n",
        "    body_lines.append(f'{name} - ({email})')\n",
        "\n",
        "body_lines.append('\\nNew Non-Duplicate emails in Form 2:')\n",
        "for name, email in non_duplicate_email:\n",
        "    body_lines.append(f'{name} - ({email})')\n",
        "\n",
        "body_lines.append('\\nDuplicate emails in Form 2, (already in Form 1):')\n",
        "for name, email in duplicate_email:\n",
        "    body_lines.append(f'{name} - ({email})')\n",
        "\n",
        "email_body = '\\n'.join(body_lines)\n",
        "\n",
        "# Sending the Email\n",
        "success = send(\n",
        "    sender = \"registrations@anysupport.co.uk\",\n",
        "    app_pass = \"smss eolr jzjl pxvn\",\n",
        "    recip = \"eugene@anysupport.co.uk\",\n",
        "    sub = \"Test Email from Colab\",\n",
        "    body = email_body\n",
        ")\n",
        "\n",
        "print(email_body)"
      ],
      "metadata": {
        "id": "ILe8hocqGtAw"
      },
      "execution_count": null,
      "outputs": []
    }
  ]
}